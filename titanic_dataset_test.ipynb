{
  "nbformat": 4,
  "nbformat_minor": 0,
  "metadata": {
    "colab": {
      "provenance": [],
      "authorship_tag": "ABX9TyO2qNxcjTjgIcsWDKQu5u1I"
    },
    "kernelspec": {
      "name": "python3",
      "display_name": "Python 3"
    },
    "language_info": {
      "name": "python"
    }
  },
  "cells": [
    {
      "cell_type": "code",
      "source": [
        "!pip install -q sklearn"
      ],
      "metadata": {
        "colab": {
          "base_uri": "https://localhost:8080/"
        },
        "id": "HW7hWFg57ugO",
        "outputId": "b3e4cb22-7de0-424e-a418-981b23fde41f"
      },
      "execution_count": null,
      "outputs": [
        {
          "output_type": "stream",
          "name": "stdout",
          "text": [
            "  \u001b[1;31merror\u001b[0m: \u001b[1msubprocess-exited-with-error\u001b[0m\n",
            "  \n",
            "  \u001b[31m×\u001b[0m \u001b[32mpython setup.py egg_info\u001b[0m did not run successfully.\n",
            "  \u001b[31m│\u001b[0m exit code: \u001b[1;36m1\u001b[0m\n",
            "  \u001b[31m╰─>\u001b[0m See above for output.\n",
            "  \n",
            "  \u001b[1;35mnote\u001b[0m: This error originates from a subprocess, and is likely not a problem with pip.\n",
            "  Preparing metadata (setup.py) ... \u001b[?25l\u001b[?25herror\n",
            "\u001b[1;31merror\u001b[0m: \u001b[1mmetadata-generation-failed\u001b[0m\n",
            "\n",
            "\u001b[31m×\u001b[0m Encountered error while generating package metadata.\n",
            "\u001b[31m╰─>\u001b[0m See above for output.\n",
            "\n",
            "\u001b[1;35mnote\u001b[0m: This is an issue with the package mentioned above, not pip.\n",
            "\u001b[1;36mhint\u001b[0m: See above for details.\n"
          ]
        }
      ]
    },
    {
      "cell_type": "code",
      "source": [
        "%tensorflow_version 2.x"
      ],
      "metadata": {
        "colab": {
          "base_uri": "https://localhost:8080/"
        },
        "id": "nX10ylnN7vkK",
        "outputId": "3f9dc588-f0a9-47de-f53a-455f9258159c"
      },
      "execution_count": null,
      "outputs": [
        {
          "output_type": "stream",
          "name": "stdout",
          "text": [
            "Colab only includes TensorFlow 2.x; %tensorflow_version has no effect.\n"
          ]
        }
      ]
    },
    {
      "cell_type": "code",
      "source": [
        "from __future__ import absolute_import,division,print_function,unicode_literals\n",
        "import numpy as np #allows u to do multi dimensional calculations like vector operations, matrices, matix addition nd subtractiomn also represent data in easier form\n",
        "import pandas as pd # allows us to manipulate data,load in datasets, visualize datasets, cut off rows from datasets  its a data analytic too\n",
        "import matplotlib.pyplot as plt # allows us to visualize graphs and charts\n",
        "from IPython.display import clear_output #as the name implies\n",
        "from six.moves import urllib\n",
        "import tensorflow.compat.v2.feature_column as fc\n",
        "import tensorflow as tf\n"
      ],
      "metadata": {
        "id": "7XoZtVjN78q0"
      },
      "execution_count": null,
      "outputs": []
    },
    {
      "cell_type": "code",
      "source": [
        "#training dataset\n",
        "dftrain = pd.read_csv('https://storage.googleapis.com/tf-datasets/titanic/train.csv') #training dataset link\n",
        "dfeval = pd.read_csv('https://storage.googleapis.com/tf-datasets/titanic/eval.csv') #testing dataset link\n",
        "y_train = dftrain.pop('survived')\n",
        "y_eval = dfeval.pop('survived')\n"
      ],
      "metadata": {
        "id": "hwbQDn6-BNmc"
      },
      "execution_count": null,
      "outputs": []
    },
    {
      "cell_type": "code",
      "source": [
        "CATEGORICAL_COLUMNS = ['sex','n_siblings_spouses','parch','class','deck','embark_town','alone']\n",
        "NUMERICAL_COLUMNS = ['age','fare']\n",
        "feature_columns =[]\n",
        "for feature_name in CATEGORICAL_COLUMNS:\n",
        "  volcabulary = dftrain[feature_name].unique() #this gets a list of all unique values from a given feature column\n",
        "  feature_columns.append(tf.feature_column.categorical_column_with_vocabulary_list(feature_name,volcabulary))\n",
        "\n",
        "\n",
        "for feature_name in NUMERICAL_COLUMNS:\n",
        "   feature_columns.append(tf.feature_column.numeric_column(feature_name, dtype=tf.float32))\n",
        "\n",
        "print (feature_columns)\n",
        "\n",
        "\n",
        "\n"
      ],
      "metadata": {
        "colab": {
          "base_uri": "https://localhost:8080/"
        },
        "id": "QPr8y4m2a4PI",
        "outputId": "b9c6f74a-b595-4336-8199-313b59cc4e6b"
      },
      "execution_count": null,
      "outputs": [
        {
          "output_type": "stream",
          "name": "stderr",
          "text": [
            "WARNING:tensorflow:From <ipython-input-5-a3bec9bfc74b>:6: categorical_column_with_vocabulary_list (from tensorflow.python.feature_column.feature_column_v2) is deprecated and will be removed in a future version.\n",
            "Instructions for updating:\n",
            "Use Keras preprocessing layers instead, either directly or via the `tf.keras.utils.FeatureSpace` utility. Each of `tf.feature_column.*` has a functional equivalent in `tf.keras.layers` for feature preprocessing when training a Keras model.\n",
            "WARNING:tensorflow:From <ipython-input-5-a3bec9bfc74b>:10: numeric_column (from tensorflow.python.feature_column.feature_column_v2) is deprecated and will be removed in a future version.\n",
            "Instructions for updating:\n",
            "Use Keras preprocessing layers instead, either directly or via the `tf.keras.utils.FeatureSpace` utility. Each of `tf.feature_column.*` has a functional equivalent in `tf.keras.layers` for feature preprocessing when training a Keras model.\n"
          ]
        },
        {
          "output_type": "stream",
          "name": "stdout",
          "text": [
            "[VocabularyListCategoricalColumn(key='sex', vocabulary_list=('male', 'female'), dtype=tf.string, default_value=-1, num_oov_buckets=0), VocabularyListCategoricalColumn(key='n_siblings_spouses', vocabulary_list=(1, 0, 3, 4, 2, 5, 8), dtype=tf.int64, default_value=-1, num_oov_buckets=0), VocabularyListCategoricalColumn(key='parch', vocabulary_list=(0, 1, 2, 5, 3, 4), dtype=tf.int64, default_value=-1, num_oov_buckets=0), VocabularyListCategoricalColumn(key='class', vocabulary_list=('Third', 'First', 'Second'), dtype=tf.string, default_value=-1, num_oov_buckets=0), VocabularyListCategoricalColumn(key='deck', vocabulary_list=('unknown', 'C', 'G', 'A', 'B', 'D', 'F', 'E'), dtype=tf.string, default_value=-1, num_oov_buckets=0), VocabularyListCategoricalColumn(key='embark_town', vocabulary_list=('Southampton', 'Cherbourg', 'Queenstown', 'unknown'), dtype=tf.string, default_value=-1, num_oov_buckets=0), VocabularyListCategoricalColumn(key='alone', vocabulary_list=('n', 'y'), dtype=tf.string, default_value=-1, num_oov_buckets=0), NumericColumn(key='age', shape=(1,), default_value=None, dtype=tf.float32, normalizer_fn=None), NumericColumn(key='fare', shape=(1,), default_value=None, dtype=tf.float32, normalizer_fn=None)]\n"
          ]
        }
      ]
    },
    {
      "cell_type": "code",
      "source": [
        "#the input function :this is created to input dataset that will be fed into the model to be created\n",
        "def make_input_fn(data_df, label_df, no_epochs=10, shuffle=True, batch_size=32):\n",
        "  def input_function(): #inner function, this will be returned\n",
        "    ds = tf.data.Dataset.from_tensor_slices((dict(data_df),label_df)) # this create tf.data.Dataset with data and its label\n",
        "    if shuffle:\n",
        "      ds = ds.shuffle(1000)#randomly shuffles the data\n",
        "    ds = ds.batch(batch_size).repeat(no_epochs)\n",
        "    return ds\n",
        "  return input_function\n",
        "train_input_function = make_input_fn(dftrain,y_train) #here we call the input function that was returned tous in the defined\n",
        "                                                      #function to get a dataset to feed to the model\n",
        "\n",
        "eval_input_fn = make_input_fn(dfeval,y_eval,no_epochs=1,shuffle=False)\n",
        "\n",
        "#CREATING A MODEL\n",
        "\n",
        "\n",
        "linear_est = tf.estimator.LinearClassifier(feature_columns=feature_columns)\n",
        "\n",
        "#TRAINING THE MODEL\n",
        "linear_est.train(train_input_function) #train\n",
        "result = linear_est.evaluate(eval_input_fn) #get model statistics\n",
        "clear_output()\n",
        "print(result)\n",
        "print(result['accuracy'])"
      ],
      "metadata": {
        "id": "8W8ZxmoyqST-",
        "colab": {
          "base_uri": "https://localhost:8080/"
        },
        "outputId": "e723a874-962d-4597-d33b-f6e22cfdd90a"
      },
      "execution_count": null,
      "outputs": [
        {
          "output_type": "stream",
          "name": "stdout",
          "text": [
            "{'accuracy': 0.7537879, 'accuracy_baseline': 0.625, 'auc': 0.83033365, 'auc_precision_recall': 0.77246106, 'average_loss': 0.5172491, 'label/mean': 0.375, 'loss': 0.5137698, 'precision': 0.64166665, 'prediction/mean': 0.47010866, 'recall': 0.7777778, 'global_step': 200}\n",
            "0.7537879\n"
          ]
        }
      ]
    },
    {
      "cell_type": "code",
      "source": [
        "#to predict survival\n",
        "result = list(linear_est.predict(eval_input_fn))\n",
        "clear_output()\n",
        "print(dfeval.loc[200])\n",
        "print (y_eval[200])\n",
        "print(result[200]['probabilities'])\n",
        "for results in result:\n",
        "  print(results)\n",
        "\n",
        "\n",
        "#classifications of datasets\n"
      ],
      "metadata": {
        "id": "9PlAoNTlVIX1",
        "colab": {
          "base_uri": "https://localhost:8080/"
        },
        "outputId": "41bc7699-f6e5-48d7-8046-bc3de95feffa"
      },
      "execution_count": null,
      "outputs": [
        {
          "output_type": "stream",
          "name": "stdout",
          "text": [
            "sex                        male\n",
            "age                        25.0\n",
            "n_siblings_spouses            0\n",
            "parch                         0\n",
            "fare                      7.225\n",
            "class                     Third\n",
            "deck                    unknown\n",
            "embark_town           Cherbourg\n",
            "alone                         y\n",
            "Name: 200, dtype: object\n",
            "0\n",
            "[0.7898811  0.21011887]\n",
            "{'logits': array([-2.0694563], dtype=float32), 'logistic': array([0.11210115], dtype=float32), 'probabilities': array([0.8878988 , 0.11210114], dtype=float32), 'class_ids': array([0]), 'classes': array([b'0'], dtype=object), 'all_class_ids': array([0, 1], dtype=int32), 'all_classes': array([b'0', b'1'], dtype=object)}\n",
            "{'logits': array([0.6122015], dtype=float32), 'logistic': array([0.6484428], dtype=float32), 'probabilities': array([0.3515572, 0.6484428], dtype=float32), 'class_ids': array([1]), 'classes': array([b'1'], dtype=object), 'all_class_ids': array([0, 1], dtype=int32), 'all_classes': array([b'0', b'1'], dtype=object)}\n",
            "{'logits': array([1.7884614], dtype=float32), 'logistic': array([0.85673857], dtype=float32), 'probabilities': array([0.14326143, 0.85673845], dtype=float32), 'class_ids': array([1]), 'classes': array([b'1'], dtype=object), 'all_class_ids': array([0, 1], dtype=int32), 'all_classes': array([b'0', b'1'], dtype=object)}\n",
            "{'logits': array([1.1754112], dtype=float32), 'logistic': array([0.7641217], dtype=float32), 'probabilities': array([0.23587826, 0.7641217 ], dtype=float32), 'class_ids': array([1]), 'classes': array([b'1'], dtype=object), 'all_class_ids': array([0, 1], dtype=int32), 'all_classes': array([b'0', b'1'], dtype=object)}\n",
            "{'logits': array([-0.5719078], dtype=float32), 'logistic': array([0.36079672], dtype=float32), 'probabilities': array([0.6392032, 0.3607967], dtype=float32), 'class_ids': array([0]), 'classes': array([b'0'], dtype=object), 'all_class_ids': array([0, 1], dtype=int32), 'all_classes': array([b'0', b'1'], dtype=object)}\n",
            "{'logits': array([1.3264018], dtype=float32), 'logistic': array([0.7902449], dtype=float32), 'probabilities': array([0.20975517, 0.7902449 ], dtype=float32), 'class_ids': array([1]), 'classes': array([b'1'], dtype=object), 'all_class_ids': array([0, 1], dtype=int32), 'all_classes': array([b'0', b'1'], dtype=object)}\n",
            "{'logits': array([0.63974386], dtype=float32), 'logistic': array([0.6546956], dtype=float32), 'probabilities': array([0.34530443, 0.6546956 ], dtype=float32), 'class_ids': array([1]), 'classes': array([b'1'], dtype=object), 'all_class_ids': array([0, 1], dtype=int32), 'all_classes': array([b'0', b'1'], dtype=object)}\n",
            "{'logits': array([-1.7847872], dtype=float32), 'logistic': array([0.14371303], dtype=float32), 'probabilities': array([0.856287  , 0.14371303], dtype=float32), 'class_ids': array([0]), 'classes': array([b'0'], dtype=object), 'all_class_ids': array([0, 1], dtype=int32), 'all_classes': array([b'0', b'1'], dtype=object)}\n",
            "{'logits': array([0.83035237], dtype=float32), 'logistic': array([0.69642943], dtype=float32), 'probabilities': array([0.30357057, 0.69642943], dtype=float32), 'class_ids': array([1]), 'classes': array([b'1'], dtype=object), 'all_class_ids': array([0, 1], dtype=int32), 'all_classes': array([b'0', b'1'], dtype=object)}\n",
            "{'logits': array([1.2419534], dtype=float32), 'logistic': array([0.7759039], dtype=float32), 'probabilities': array([0.22409613, 0.77590376], dtype=float32), 'class_ids': array([1]), 'classes': array([b'1'], dtype=object), 'all_class_ids': array([0, 1], dtype=int32), 'all_classes': array([b'0', b'1'], dtype=object)}\n",
            "{'logits': array([1.0562692], dtype=float32), 'logistic': array([0.7419769], dtype=float32), 'probabilities': array([0.25802308, 0.741977  ], dtype=float32), 'class_ids': array([1]), 'classes': array([b'1'], dtype=object), 'all_class_ids': array([0, 1], dtype=int32), 'all_classes': array([b'0', b'1'], dtype=object)}\n",
            "{'logits': array([-1.789978], dtype=float32), 'logistic': array([0.14307542], dtype=float32), 'probabilities': array([0.8569246 , 0.14307542], dtype=float32), 'class_ids': array([0]), 'classes': array([b'0'], dtype=object), 'all_class_ids': array([0, 1], dtype=int32), 'all_classes': array([b'0', b'1'], dtype=object)}\n",
            "{'logits': array([2.229299], dtype=float32), 'logistic': array([0.9028499], dtype=float32), 'probabilities': array([0.0971501, 0.9028499], dtype=float32), 'class_ids': array([1]), 'classes': array([b'1'], dtype=object), 'all_class_ids': array([0, 1], dtype=int32), 'all_classes': array([b'0', b'1'], dtype=object)}\n",
            "{'logits': array([0.21072717], dtype=float32), 'logistic': array([0.55248773], dtype=float32), 'probabilities': array([0.44751227, 0.5524877 ], dtype=float32), 'class_ids': array([1]), 'classes': array([b'1'], dtype=object), 'all_class_ids': array([0, 1], dtype=int32), 'all_classes': array([b'0', b'1'], dtype=object)}\n",
            "{'logits': array([1.9756296], dtype=float32), 'logistic': array([0.8782145], dtype=float32), 'probabilities': array([0.12178548, 0.8782144 ], dtype=float32), 'class_ids': array([1]), 'classes': array([b'1'], dtype=object), 'all_class_ids': array([0, 1], dtype=int32), 'all_classes': array([b'0', b'1'], dtype=object)}\n",
            "{'logits': array([0.99965256], dtype=float32), 'logistic': array([0.7309903], dtype=float32), 'probabilities': array([0.2690097 , 0.73099023], dtype=float32), 'class_ids': array([1]), 'classes': array([b'1'], dtype=object), 'all_class_ids': array([0, 1], dtype=int32), 'all_classes': array([b'0', b'1'], dtype=object)}\n",
            "{'logits': array([-1.1547277], dtype=float32), 'logistic': array([0.23962662], dtype=float32), 'probabilities': array([0.76037335, 0.2396266 ], dtype=float32), 'class_ids': array([0]), 'classes': array([b'0'], dtype=object), 'all_class_ids': array([0, 1], dtype=int32), 'all_classes': array([b'0', b'1'], dtype=object)}\n",
            "{'logits': array([1.8338879], dtype=float32), 'logistic': array([0.8622242], dtype=float32), 'probabilities': array([0.13777575, 0.8622242 ], dtype=float32), 'class_ids': array([1]), 'classes': array([b'1'], dtype=object), 'all_class_ids': array([0, 1], dtype=int32), 'all_classes': array([b'0', b'1'], dtype=object)}\n",
            "{'logits': array([-0.07891349], dtype=float32), 'logistic': array([0.48028186], dtype=float32), 'probabilities': array([0.5197181, 0.4802818], dtype=float32), 'class_ids': array([0]), 'classes': array([b'0'], dtype=object), 'all_class_ids': array([0, 1], dtype=int32), 'all_classes': array([b'0', b'1'], dtype=object)}\n",
            "{'logits': array([-1.9474554], dtype=float32), 'logistic': array([0.1248311], dtype=float32), 'probabilities': array([0.87516886, 0.12483108], dtype=float32), 'class_ids': array([0]), 'classes': array([b'0'], dtype=object), 'all_class_ids': array([0, 1], dtype=int32), 'all_classes': array([b'0', b'1'], dtype=object)}\n",
            "{'logits': array([-1.7685192], dtype=float32), 'logistic': array([0.14572658], dtype=float32), 'probabilities': array([0.8542735 , 0.14572659], dtype=float32), 'class_ids': array([0]), 'classes': array([b'0'], dtype=object), 'all_class_ids': array([0, 1], dtype=int32), 'all_classes': array([b'0', b'1'], dtype=object)}\n",
            "{'logits': array([-1.8331509], dtype=float32), 'logistic': array([0.13786335], dtype=float32), 'probabilities': array([0.86213666, 0.13786334], dtype=float32), 'class_ids': array([0]), 'classes': array([b'0'], dtype=object), 'all_class_ids': array([0, 1], dtype=int32), 'all_classes': array([b'0', b'1'], dtype=object)}\n",
            "{'logits': array([0.9383049], dtype=float32), 'logistic': array([0.71875715], dtype=float32), 'probabilities': array([0.28124285, 0.7187571 ], dtype=float32), 'class_ids': array([1]), 'classes': array([b'1'], dtype=object), 'all_class_ids': array([0, 1], dtype=int32), 'all_classes': array([b'0', b'1'], dtype=object)}\n",
            "{'logits': array([-2.1336584], dtype=float32), 'logistic': array([0.10586818], dtype=float32), 'probabilities': array([0.8941318 , 0.10586818], dtype=float32), 'class_ids': array([0]), 'classes': array([b'0'], dtype=object), 'all_class_ids': array([0, 1], dtype=int32), 'all_classes': array([b'0', b'1'], dtype=object)}\n",
            "{'logits': array([1.0435127], dtype=float32), 'logistic': array([0.7395272], dtype=float32), 'probabilities': array([0.26047277, 0.73952717], dtype=float32), 'class_ids': array([1]), 'classes': array([b'1'], dtype=object), 'all_class_ids': array([0, 1], dtype=int32), 'all_classes': array([b'0', b'1'], dtype=object)}\n",
            "{'logits': array([0.8009301], dtype=float32), 'logistic': array([0.6901734], dtype=float32), 'probabilities': array([0.3098266 , 0.69017345], dtype=float32), 'class_ids': array([1]), 'classes': array([b'1'], dtype=object), 'all_class_ids': array([0, 1], dtype=int32), 'all_classes': array([b'0', b'1'], dtype=object)}\n",
            "{'logits': array([-0.05462138], dtype=float32), 'logistic': array([0.48634803], dtype=float32), 'probabilities': array([0.5136519, 0.486348 ], dtype=float32), 'class_ids': array([0]), 'classes': array([b'0'], dtype=object), 'all_class_ids': array([0, 1], dtype=int32), 'all_classes': array([b'0', b'1'], dtype=object)}\n",
            "{'logits': array([0.70427245], dtype=float32), 'logistic': array([0.6691344], dtype=float32), 'probabilities': array([0.33086562, 0.6691343 ], dtype=float32), 'class_ids': array([1]), 'classes': array([b'1'], dtype=object), 'all_class_ids': array([0, 1], dtype=int32), 'all_classes': array([b'0', b'1'], dtype=object)}\n",
            "{'logits': array([-0.93676], dtype=float32), 'logistic': array([0.28155527], dtype=float32), 'probabilities': array([0.7184447 , 0.28155527], dtype=float32), 'class_ids': array([0]), 'classes': array([b'0'], dtype=object), 'all_class_ids': array([0, 1], dtype=int32), 'all_classes': array([b'0', b'1'], dtype=object)}\n",
            "{'logits': array([2.1876926], dtype=float32), 'logistic': array([0.89913887], dtype=float32), 'probabilities': array([0.10086116, 0.8991389 ], dtype=float32), 'class_ids': array([1]), 'classes': array([b'1'], dtype=object), 'all_class_ids': array([0, 1], dtype=int32), 'all_classes': array([b'0', b'1'], dtype=object)}\n",
            "{'logits': array([-1.4729493], dtype=float32), 'logistic': array([0.18649475], dtype=float32), 'probabilities': array([0.8135053 , 0.18649477], dtype=float32), 'class_ids': array([0]), 'classes': array([b'0'], dtype=object), 'all_class_ids': array([0, 1], dtype=int32), 'all_classes': array([b'0', b'1'], dtype=object)}\n",
            "{'logits': array([1.9514277], dtype=float32), 'logistic': array([0.87560225], dtype=float32), 'probabilities': array([0.12439775, 0.8756021 ], dtype=float32), 'class_ids': array([1]), 'classes': array([b'1'], dtype=object), 'all_class_ids': array([0, 1], dtype=int32), 'all_classes': array([b'0', b'1'], dtype=object)}\n",
            "{'logits': array([-1.0082698], dtype=float32), 'logistic': array([0.26731858], dtype=float32), 'probabilities': array([0.7326814 , 0.26731858], dtype=float32), 'class_ids': array([0]), 'classes': array([b'0'], dtype=object), 'all_class_ids': array([0, 1], dtype=int32), 'all_classes': array([b'0', b'1'], dtype=object)}\n",
            "{'logits': array([1.087276], dtype=float32), 'logistic': array([0.7478684], dtype=float32), 'probabilities': array([0.25213155, 0.74786836], dtype=float32), 'class_ids': array([1]), 'classes': array([b'1'], dtype=object), 'all_class_ids': array([0, 1], dtype=int32), 'all_classes': array([b'0', b'1'], dtype=object)}\n",
            "{'logits': array([-0.25159907], dtype=float32), 'logistic': array([0.43742996], dtype=float32), 'probabilities': array([0.56257  , 0.4374299], dtype=float32), 'class_ids': array([0]), 'classes': array([b'0'], dtype=object), 'all_class_ids': array([0, 1], dtype=int32), 'all_classes': array([b'0', b'1'], dtype=object)}\n",
            "{'logits': array([-1.9120662], dtype=float32), 'logistic': array([0.12874891], dtype=float32), 'probabilities': array([0.87125117, 0.12874891], dtype=float32), 'class_ids': array([0]), 'classes': array([b'0'], dtype=object), 'all_class_ids': array([0, 1], dtype=int32), 'all_classes': array([b'0', b'1'], dtype=object)}\n",
            "{'logits': array([-1.0020041], dtype=float32), 'logistic': array([0.26854756], dtype=float32), 'probabilities': array([0.73145247, 0.26854756], dtype=float32), 'class_ids': array([0]), 'classes': array([b'0'], dtype=object), 'all_class_ids': array([0, 1], dtype=int32), 'all_classes': array([b'0', b'1'], dtype=object)}\n",
            "{'logits': array([-1.3539395], dtype=float32), 'logistic': array([0.20522705], dtype=float32), 'probabilities': array([0.794773  , 0.20522705], dtype=float32), 'class_ids': array([0]), 'classes': array([b'0'], dtype=object), 'all_class_ids': array([0, 1], dtype=int32), 'all_classes': array([b'0', b'1'], dtype=object)}\n",
            "{'logits': array([3.3917427], dtype=float32), 'logistic': array([0.9674455], dtype=float32), 'probabilities': array([0.03255452, 0.9674454 ], dtype=float32), 'class_ids': array([1]), 'classes': array([b'1'], dtype=object), 'all_class_ids': array([0, 1], dtype=int32), 'all_classes': array([b'0', b'1'], dtype=object)}\n",
            "{'logits': array([-1.9677889], dtype=float32), 'logistic': array([0.12262658], dtype=float32), 'probabilities': array([0.8773735 , 0.12262659], dtype=float32), 'class_ids': array([0]), 'classes': array([b'0'], dtype=object), 'all_class_ids': array([0, 1], dtype=int32), 'all_classes': array([b'0', b'1'], dtype=object)}\n",
            "{'logits': array([1.4752233], dtype=float32), 'logistic': array([0.81385], dtype=float32), 'probabilities': array([0.18614998, 0.8138499 ], dtype=float32), 'class_ids': array([1]), 'classes': array([b'1'], dtype=object), 'all_class_ids': array([0, 1], dtype=int32), 'all_classes': array([b'0', b'1'], dtype=object)}\n",
            "{'logits': array([-1.6973284], dtype=float32), 'logistic': array([0.15481451], dtype=float32), 'probabilities': array([0.84518546, 0.1548145 ], dtype=float32), 'class_ids': array([0]), 'classes': array([b'0'], dtype=object), 'all_class_ids': array([0, 1], dtype=int32), 'all_classes': array([b'0', b'1'], dtype=object)}\n",
            "{'logits': array([0.56936496], dtype=float32), 'logistic': array([0.6386166], dtype=float32), 'probabilities': array([0.36138338, 0.6386167 ], dtype=float32), 'class_ids': array([1]), 'classes': array([b'1'], dtype=object), 'all_class_ids': array([0, 1], dtype=int32), 'all_classes': array([b'0', b'1'], dtype=object)}\n",
            "{'logits': array([-0.38560104], dtype=float32), 'logistic': array([0.40477672], dtype=float32), 'probabilities': array([0.5952233 , 0.40477672], dtype=float32), 'class_ids': array([0]), 'classes': array([b'0'], dtype=object), 'all_class_ids': array([0, 1], dtype=int32), 'all_classes': array([b'0', b'1'], dtype=object)}\n",
            "{'logits': array([-0.35250068], dtype=float32), 'logistic': array([0.41277614], dtype=float32), 'probabilities': array([0.5872238, 0.4127761], dtype=float32), 'class_ids': array([0]), 'classes': array([b'0'], dtype=object), 'all_class_ids': array([0, 1], dtype=int32), 'all_classes': array([b'0', b'1'], dtype=object)}\n",
            "{'logits': array([1.5588462], dtype=float32), 'logistic': array([0.82618773], dtype=float32), 'probabilities': array([0.17381229, 0.8261878 ], dtype=float32), 'class_ids': array([1]), 'classes': array([b'1'], dtype=object), 'all_class_ids': array([0, 1], dtype=int32), 'all_classes': array([b'0', b'1'], dtype=object)}\n",
            "{'logits': array([-1.7873826], dtype=float32), 'logistic': array([0.14339392], dtype=float32), 'probabilities': array([0.8566061 , 0.14339393], dtype=float32), 'class_ids': array([0]), 'classes': array([b'0'], dtype=object), 'all_class_ids': array([0, 1], dtype=int32), 'all_classes': array([b'0', b'1'], dtype=object)}\n",
            "{'logits': array([0.10803111], dtype=float32), 'logistic': array([0.5269816], dtype=float32), 'probabilities': array([0.47301847, 0.52698153], dtype=float32), 'class_ids': array([1]), 'classes': array([b'1'], dtype=object), 'all_class_ids': array([0, 1], dtype=int32), 'all_classes': array([b'0', b'1'], dtype=object)}\n",
            "{'logits': array([0.12329955], dtype=float32), 'logistic': array([0.5307859], dtype=float32), 'probabilities': array([0.4692141, 0.5307859], dtype=float32), 'class_ids': array([1]), 'classes': array([b'1'], dtype=object), 'all_class_ids': array([0, 1], dtype=int32), 'all_classes': array([b'0', b'1'], dtype=object)}\n",
            "{'logits': array([0.51914173], dtype=float32), 'logistic': array([0.62694705], dtype=float32), 'probabilities': array([0.37305295, 0.62694705], dtype=float32), 'class_ids': array([1]), 'classes': array([b'1'], dtype=object), 'all_class_ids': array([0, 1], dtype=int32), 'all_classes': array([b'0', b'1'], dtype=object)}\n",
            "{'logits': array([-1.6166692], dtype=float32), 'logistic': array([0.16566476], dtype=float32), 'probabilities': array([0.83433527, 0.16566475], dtype=float32), 'class_ids': array([0]), 'classes': array([b'0'], dtype=object), 'all_class_ids': array([0, 1], dtype=int32), 'all_classes': array([b'0', b'1'], dtype=object)}\n",
            "{'logits': array([-0.886269], dtype=float32), 'logistic': array([0.2918804], dtype=float32), 'probabilities': array([0.7081196 , 0.29188037], dtype=float32), 'class_ids': array([0]), 'classes': array([b'0'], dtype=object), 'all_class_ids': array([0, 1], dtype=int32), 'all_classes': array([b'0', b'1'], dtype=object)}\n",
            "{'logits': array([-2.2716985], dtype=float32), 'logistic': array([0.09349416], dtype=float32), 'probabilities': array([0.9065058 , 0.09349416], dtype=float32), 'class_ids': array([0]), 'classes': array([b'0'], dtype=object), 'all_class_ids': array([0, 1], dtype=int32), 'all_classes': array([b'0', b'1'], dtype=object)}\n",
            "{'logits': array([-1.741046], dtype=float32), 'logistic': array([0.14918013], dtype=float32), 'probabilities': array([0.85081977, 0.14918011], dtype=float32), 'class_ids': array([0]), 'classes': array([b'0'], dtype=object), 'all_class_ids': array([0, 1], dtype=int32), 'all_classes': array([b'0', b'1'], dtype=object)}\n",
            "{'logits': array([-1.7237868], dtype=float32), 'logistic': array([0.15138404], dtype=float32), 'probabilities': array([0.84861594, 0.15138404], dtype=float32), 'class_ids': array([0]), 'classes': array([b'0'], dtype=object), 'all_class_ids': array([0, 1], dtype=int32), 'all_classes': array([b'0', b'1'], dtype=object)}\n",
            "{'logits': array([-1.8665509], dtype=float32), 'logistic': array([0.13394132], dtype=float32), 'probabilities': array([0.8660587 , 0.13394132], dtype=float32), 'class_ids': array([0]), 'classes': array([b'0'], dtype=object), 'all_class_ids': array([0, 1], dtype=int32), 'all_classes': array([b'0', b'1'], dtype=object)}\n",
            "{'logits': array([-1.1099374], dtype=float32), 'logistic': array([0.24788256], dtype=float32), 'probabilities': array([0.75211746, 0.24788256], dtype=float32), 'class_ids': array([0]), 'classes': array([b'0'], dtype=object), 'all_class_ids': array([0, 1], dtype=int32), 'all_classes': array([b'0', b'1'], dtype=object)}\n",
            "{'logits': array([4.488635], dtype=float32), 'logistic': array([0.98888886], dtype=float32), 'probabilities': array([0.01111113, 0.98888886], dtype=float32), 'class_ids': array([1]), 'classes': array([b'1'], dtype=object), 'all_class_ids': array([0, 1], dtype=int32), 'all_classes': array([b'0', b'1'], dtype=object)}\n",
            "{'logits': array([-1.0489368], dtype=float32), 'logistic': array([0.25942934], dtype=float32), 'probabilities': array([0.74057066, 0.2594293 ], dtype=float32), 'class_ids': array([0]), 'classes': array([b'0'], dtype=object), 'all_class_ids': array([0, 1], dtype=int32), 'all_classes': array([b'0', b'1'], dtype=object)}\n",
            "{'logits': array([-1.9303234], dtype=float32), 'logistic': array([0.12671478], dtype=float32), 'probabilities': array([0.8732851 , 0.12671478], dtype=float32), 'class_ids': array([0]), 'classes': array([b'0'], dtype=object), 'all_class_ids': array([0, 1], dtype=int32), 'all_classes': array([b'0', b'1'], dtype=object)}\n",
            "{'logits': array([0.820865], dtype=float32), 'logistic': array([0.6944199], dtype=float32), 'probabilities': array([0.30558005, 0.69441986], dtype=float32), 'class_ids': array([1]), 'classes': array([b'1'], dtype=object), 'all_class_ids': array([0, 1], dtype=int32), 'all_classes': array([b'0', b'1'], dtype=object)}\n",
            "{'logits': array([0.7422653], dtype=float32), 'logistic': array([0.677491], dtype=float32), 'probabilities': array([0.32250896, 0.67749095], dtype=float32), 'class_ids': array([1]), 'classes': array([b'1'], dtype=object), 'all_class_ids': array([0, 1], dtype=int32), 'all_classes': array([b'0', b'1'], dtype=object)}\n",
            "{'logits': array([-1.0398442], dtype=float32), 'logistic': array([0.26118007], dtype=float32), 'probabilities': array([0.7388199 , 0.26118007], dtype=float32), 'class_ids': array([0]), 'classes': array([b'0'], dtype=object), 'all_class_ids': array([0, 1], dtype=int32), 'all_classes': array([b'0', b'1'], dtype=object)}\n",
            "{'logits': array([1.9283451], dtype=float32), 'logistic': array([0.8730661], dtype=float32), 'probabilities': array([0.12693386, 0.8730661 ], dtype=float32), 'class_ids': array([1]), 'classes': array([b'1'], dtype=object), 'all_class_ids': array([0, 1], dtype=int32), 'all_classes': array([b'0', b'1'], dtype=object)}\n",
            "{'logits': array([-1.1415117], dtype=float32), 'logistic': array([0.24204293], dtype=float32), 'probabilities': array([0.75795704, 0.24204293], dtype=float32), 'class_ids': array([0]), 'classes': array([b'0'], dtype=object), 'all_class_ids': array([0, 1], dtype=int32), 'all_classes': array([b'0', b'1'], dtype=object)}\n",
            "{'logits': array([0.85956633], dtype=float32), 'logistic': array([0.70257], dtype=float32), 'probabilities': array([0.29742998, 0.7025701 ], dtype=float32), 'class_ids': array([1]), 'classes': array([b'1'], dtype=object), 'all_class_ids': array([0, 1], dtype=int32), 'all_classes': array([b'0', b'1'], dtype=object)}\n",
            "{'logits': array([0.74521214], dtype=float32), 'logistic': array([0.67813456], dtype=float32), 'probabilities': array([0.3218654, 0.6781345], dtype=float32), 'class_ids': array([1]), 'classes': array([b'1'], dtype=object), 'all_class_ids': array([0, 1], dtype=int32), 'all_classes': array([b'0', b'1'], dtype=object)}\n",
            "{'logits': array([-1.2883073], dtype=float32), 'logistic': array([0.21613945], dtype=float32), 'probabilities': array([0.7838605 , 0.21613945], dtype=float32), 'class_ids': array([0]), 'classes': array([b'0'], dtype=object), 'all_class_ids': array([0, 1], dtype=int32), 'all_classes': array([b'0', b'1'], dtype=object)}\n",
            "{'logits': array([-1.02427], dtype=float32), 'logistic': array([0.2641965], dtype=float32), 'probabilities': array([0.73580354, 0.2641965 ], dtype=float32), 'class_ids': array([0]), 'classes': array([b'0'], dtype=object), 'all_class_ids': array([0, 1], dtype=int32), 'all_classes': array([b'0', b'1'], dtype=object)}\n",
            "{'logits': array([1.0768282], dtype=float32), 'logistic': array([0.7458933], dtype=float32), 'probabilities': array([0.2541067 , 0.74589324], dtype=float32), 'class_ids': array([1]), 'classes': array([b'1'], dtype=object), 'all_class_ids': array([0, 1], dtype=int32), 'all_classes': array([b'0', b'1'], dtype=object)}\n",
            "{'logits': array([4.109678], dtype=float32), 'logistic': array([0.98385197], dtype=float32), 'probabilities': array([0.01614803, 0.983852  ], dtype=float32), 'class_ids': array([1]), 'classes': array([b'1'], dtype=object), 'all_class_ids': array([0, 1], dtype=int32), 'all_classes': array([b'0', b'1'], dtype=object)}\n",
            "{'logits': array([1.3713692], dtype=float32), 'logistic': array([0.79760134], dtype=float32), 'probabilities': array([0.2023987, 0.7976012], dtype=float32), 'class_ids': array([1]), 'classes': array([b'1'], dtype=object), 'all_class_ids': array([0, 1], dtype=int32), 'all_classes': array([b'0', b'1'], dtype=object)}\n",
            "{'logits': array([-2.4274683], dtype=float32), 'logistic': array([0.08110194], dtype=float32), 'probabilities': array([0.9188981 , 0.08110194], dtype=float32), 'class_ids': array([0]), 'classes': array([b'0'], dtype=object), 'all_class_ids': array([0, 1], dtype=int32), 'all_classes': array([b'0', b'1'], dtype=object)}\n",
            "{'logits': array([-1.7441201], dtype=float32), 'logistic': array([0.14879036], dtype=float32), 'probabilities': array([0.85120964, 0.14879036], dtype=float32), 'class_ids': array([0]), 'classes': array([b'0'], dtype=object), 'all_class_ids': array([0, 1], dtype=int32), 'all_classes': array([b'0', b'1'], dtype=object)}\n",
            "{'logits': array([-1.45703], dtype=float32), 'logistic': array([0.18892197], dtype=float32), 'probabilities': array([0.811078  , 0.18892199], dtype=float32), 'class_ids': array([0]), 'classes': array([b'0'], dtype=object), 'all_class_ids': array([0, 1], dtype=int32), 'all_classes': array([b'0', b'1'], dtype=object)}\n",
            "{'logits': array([-1.9376824], dtype=float32), 'logistic': array([0.12590268], dtype=float32), 'probabilities': array([0.8740973 , 0.12590268], dtype=float32), 'class_ids': array([0]), 'classes': array([b'0'], dtype=object), 'all_class_ids': array([0, 1], dtype=int32), 'all_classes': array([b'0', b'1'], dtype=object)}\n",
            "{'logits': array([-1.8083224], dtype=float32), 'logistic': array([0.140841], dtype=float32), 'probabilities': array([0.859159  , 0.14084099], dtype=float32), 'class_ids': array([0]), 'classes': array([b'0'], dtype=object), 'all_class_ids': array([0, 1], dtype=int32), 'all_classes': array([b'0', b'1'], dtype=object)}\n",
            "{'logits': array([-1.3539395], dtype=float32), 'logistic': array([0.20522705], dtype=float32), 'probabilities': array([0.794773  , 0.20522705], dtype=float32), 'class_ids': array([0]), 'classes': array([b'0'], dtype=object), 'all_class_ids': array([0, 1], dtype=int32), 'all_classes': array([b'0', b'1'], dtype=object)}\n",
            "{'logits': array([1.1782701], dtype=float32), 'logistic': array([0.76463664], dtype=float32), 'probabilities': array([0.23536336, 0.7646366 ], dtype=float32), 'class_ids': array([1]), 'classes': array([b'1'], dtype=object), 'all_class_ids': array([0, 1], dtype=int32), 'all_classes': array([b'0', b'1'], dtype=object)}\n",
            "{'logits': array([5.027181], dtype=float32), 'logistic': array([0.99348545], dtype=float32), 'probabilities': array([0.00651455, 0.9934854 ], dtype=float32), 'class_ids': array([1]), 'classes': array([b'1'], dtype=object), 'all_class_ids': array([0, 1], dtype=int32), 'all_classes': array([b'0', b'1'], dtype=object)}\n",
            "{'logits': array([0.90222], dtype=float32), 'logistic': array([0.7114055], dtype=float32), 'probabilities': array([0.2885945, 0.7114055], dtype=float32), 'class_ids': array([1]), 'classes': array([b'1'], dtype=object), 'all_class_ids': array([0, 1], dtype=int32), 'all_classes': array([b'0', b'1'], dtype=object)}\n",
            "{'logits': array([0.21072717], dtype=float32), 'logistic': array([0.55248773], dtype=float32), 'probabilities': array([0.44751227, 0.5524877 ], dtype=float32), 'class_ids': array([1]), 'classes': array([b'1'], dtype=object), 'all_class_ids': array([0, 1], dtype=int32), 'all_classes': array([b'0', b'1'], dtype=object)}\n",
            "{'logits': array([-1.2936215], dtype=float32), 'logistic': array([0.21524046], dtype=float32), 'probabilities': array([0.7847595 , 0.21524046], dtype=float32), 'class_ids': array([0]), 'classes': array([b'0'], dtype=object), 'all_class_ids': array([0, 1], dtype=int32), 'all_classes': array([b'0', b'1'], dtype=object)}\n",
            "{'logits': array([5.3157673], dtype=float32), 'logistic': array([0.9951105], dtype=float32), 'probabilities': array([0.00488948, 0.99511045], dtype=float32), 'class_ids': array([1]), 'classes': array([b'1'], dtype=object), 'all_class_ids': array([0, 1], dtype=int32), 'all_classes': array([b'0', b'1'], dtype=object)}\n",
            "{'logits': array([-1.7371514], dtype=float32), 'logistic': array([0.14967512], dtype=float32), 'probabilities': array([0.85032487, 0.14967512], dtype=float32), 'class_ids': array([0]), 'classes': array([b'0'], dtype=object), 'all_class_ids': array([0, 1], dtype=int32), 'all_classes': array([b'0', b'1'], dtype=object)}\n",
            "{'logits': array([2.6063304], dtype=float32), 'logistic': array([0.93126786], dtype=float32), 'probabilities': array([0.06873212, 0.9312679 ], dtype=float32), 'class_ids': array([1]), 'classes': array([b'1'], dtype=object), 'all_class_ids': array([0, 1], dtype=int32), 'all_classes': array([b'0', b'1'], dtype=object)}\n",
            "{'logits': array([0.8408772], dtype=float32), 'logistic': array([0.69864994], dtype=float32), 'probabilities': array([0.30135006, 0.6986499 ], dtype=float32), 'class_ids': array([1]), 'classes': array([b'1'], dtype=object), 'all_class_ids': array([0, 1], dtype=int32), 'all_classes': array([b'0', b'1'], dtype=object)}\n",
            "{'logits': array([-1.5771787], dtype=float32), 'logistic': array([0.17119542], dtype=float32), 'probabilities': array([0.8288045, 0.1711954], dtype=float32), 'class_ids': array([0]), 'classes': array([b'0'], dtype=object), 'all_class_ids': array([0, 1], dtype=int32), 'all_classes': array([b'0', b'1'], dtype=object)}\n",
            "{'logits': array([1.8661864], dtype=float32), 'logistic': array([0.8660164], dtype=float32), 'probabilities': array([0.13398361, 0.8660164 ], dtype=float32), 'class_ids': array([1]), 'classes': array([b'1'], dtype=object), 'all_class_ids': array([0, 1], dtype=int32), 'all_classes': array([b'0', b'1'], dtype=object)}\n",
            "{'logits': array([2.1188226], dtype=float32), 'logistic': array([0.8927192], dtype=float32), 'probabilities': array([0.10728078, 0.8927192 ], dtype=float32), 'class_ids': array([1]), 'classes': array([b'1'], dtype=object), 'all_class_ids': array([0, 1], dtype=int32), 'all_classes': array([b'0', b'1'], dtype=object)}\n",
            "{'logits': array([4.293948], dtype=float32), 'logistic': array([0.9865329], dtype=float32), 'probabilities': array([0.01346709, 0.986533  ], dtype=float32), 'class_ids': array([1]), 'classes': array([b'1'], dtype=object), 'all_class_ids': array([0, 1], dtype=int32), 'all_classes': array([b'0', b'1'], dtype=object)}\n",
            "{'logits': array([-0.6482792], dtype=float32), 'logistic': array([0.3433774], dtype=float32), 'probabilities': array([0.6566226, 0.3433774], dtype=float32), 'class_ids': array([0]), 'classes': array([b'0'], dtype=object), 'all_class_ids': array([0, 1], dtype=int32), 'all_classes': array([b'0', b'1'], dtype=object)}\n",
            "{'logits': array([-1.8603779], dtype=float32), 'logistic': array([0.134659], dtype=float32), 'probabilities': array([0.86534095, 0.134659  ], dtype=float32), 'class_ids': array([0]), 'classes': array([b'0'], dtype=object), 'all_class_ids': array([0, 1], dtype=int32), 'all_classes': array([b'0', b'1'], dtype=object)}\n",
            "{'logits': array([5.882784], dtype=float32), 'logistic': array([0.99722075], dtype=float32), 'probabilities': array([0.00277927, 0.99722075], dtype=float32), 'class_ids': array([1]), 'classes': array([b'1'], dtype=object), 'all_class_ids': array([0, 1], dtype=int32), 'all_classes': array([b'0', b'1'], dtype=object)}\n",
            "{'logits': array([0.25661165], dtype=float32), 'logistic': array([0.5638032], dtype=float32), 'probabilities': array([0.43619683, 0.5638032 ], dtype=float32), 'class_ids': array([1]), 'classes': array([b'1'], dtype=object), 'all_class_ids': array([0, 1], dtype=int32), 'all_classes': array([b'0', b'1'], dtype=object)}\n",
            "{'logits': array([6.1992855], dtype=float32), 'logistic': array([0.99797326], dtype=float32), 'probabilities': array([0.00202677, 0.9979733 ], dtype=float32), 'class_ids': array([1]), 'classes': array([b'1'], dtype=object), 'all_class_ids': array([0, 1], dtype=int32), 'all_classes': array([b'0', b'1'], dtype=object)}\n",
            "{'logits': array([-1.1142468], dtype=float32), 'logistic': array([0.24708], dtype=float32), 'probabilities': array([0.75292   , 0.24707998], dtype=float32), 'class_ids': array([0]), 'classes': array([b'0'], dtype=object), 'all_class_ids': array([0, 1], dtype=int32), 'all_classes': array([b'0', b'1'], dtype=object)}\n",
            "{'logits': array([-2.1990736], dtype=float32), 'logistic': array([0.09983372], dtype=float32), 'probabilities': array([0.9001663 , 0.09983372], dtype=float32), 'class_ids': array([0]), 'classes': array([b'0'], dtype=object), 'all_class_ids': array([0, 1], dtype=int32), 'all_classes': array([b'0', b'1'], dtype=object)}\n",
            "{'logits': array([-1.8010576], dtype=float32), 'logistic': array([0.14172237], dtype=float32), 'probabilities': array([0.8582777 , 0.14172238], dtype=float32), 'class_ids': array([0]), 'classes': array([b'0'], dtype=object), 'all_class_ids': array([0, 1], dtype=int32), 'all_classes': array([b'0', b'1'], dtype=object)}\n",
            "{'logits': array([-0.1574829], dtype=float32), 'logistic': array([0.4607104], dtype=float32), 'probabilities': array([0.53928953, 0.4607104 ], dtype=float32), 'class_ids': array([0]), 'classes': array([b'0'], dtype=object), 'all_class_ids': array([0, 1], dtype=int32), 'all_classes': array([b'0', b'1'], dtype=object)}\n",
            "{'logits': array([-1.9843993], dtype=float32), 'logistic': array([0.12085065], dtype=float32), 'probabilities': array([0.8791493 , 0.12085065], dtype=float32), 'class_ids': array([0]), 'classes': array([b'0'], dtype=object), 'all_class_ids': array([0, 1], dtype=int32), 'all_classes': array([b'0', b'1'], dtype=object)}\n",
            "{'logits': array([1.8749448], dtype=float32), 'logistic': array([0.86702937], dtype=float32), 'probabilities': array([0.1329706, 0.8670293], dtype=float32), 'class_ids': array([1]), 'classes': array([b'1'], dtype=object), 'all_class_ids': array([0, 1], dtype=int32), 'all_classes': array([b'0', b'1'], dtype=object)}\n",
            "{'logits': array([2.5733223], dtype=float32), 'logistic': array([0.9291248], dtype=float32), 'probabilities': array([0.07087521, 0.9291247 ], dtype=float32), 'class_ids': array([1]), 'classes': array([b'1'], dtype=object), 'all_class_ids': array([0, 1], dtype=int32), 'all_classes': array([b'0', b'1'], dtype=object)}\n",
            "{'logits': array([0.7414115], dtype=float32), 'logistic': array([0.67730445], dtype=float32), 'probabilities': array([0.32269555, 0.67730445], dtype=float32), 'class_ids': array([1]), 'classes': array([b'1'], dtype=object), 'all_class_ids': array([0, 1], dtype=int32), 'all_classes': array([b'0', b'1'], dtype=object)}\n",
            "{'logits': array([0.9096662], dtype=float32), 'logistic': array([0.7129319], dtype=float32), 'probabilities': array([0.28706816, 0.7129319 ], dtype=float32), 'class_ids': array([1]), 'classes': array([b'1'], dtype=object), 'all_class_ids': array([0, 1], dtype=int32), 'all_classes': array([b'0', b'1'], dtype=object)}\n",
            "{'logits': array([-1.2892427], dtype=float32), 'logistic': array([0.21598102], dtype=float32), 'probabilities': array([0.784019  , 0.21598102], dtype=float32), 'class_ids': array([0]), 'classes': array([b'0'], dtype=object), 'all_class_ids': array([0, 1], dtype=int32), 'all_classes': array([b'0', b'1'], dtype=object)}\n",
            "{'logits': array([1.6564628], dtype=float32), 'logistic': array([0.8397626], dtype=float32), 'probabilities': array([0.1602374, 0.8397626], dtype=float32), 'class_ids': array([1]), 'classes': array([b'1'], dtype=object), 'all_class_ids': array([0, 1], dtype=int32), 'all_classes': array([b'0', b'1'], dtype=object)}\n",
            "{'logits': array([2.7845733], dtype=float32), 'logistic': array([0.9418365], dtype=float32), 'probabilities': array([0.05816352, 0.9418365 ], dtype=float32), 'class_ids': array([1]), 'classes': array([b'1'], dtype=object), 'all_class_ids': array([0, 1], dtype=int32), 'all_classes': array([b'0', b'1'], dtype=object)}\n",
            "{'logits': array([1.4994589], dtype=float32), 'logistic': array([0.81749374], dtype=float32), 'probabilities': array([0.18250625, 0.8174938 ], dtype=float32), 'class_ids': array([1]), 'classes': array([b'1'], dtype=object), 'all_class_ids': array([0, 1], dtype=int32), 'all_classes': array([b'0', b'1'], dtype=object)}\n",
            "{'logits': array([-2.3135676], dtype=float32), 'logistic': array([0.09000552], dtype=float32), 'probabilities': array([0.9099945 , 0.09000551], dtype=float32), 'class_ids': array([0]), 'classes': array([b'0'], dtype=object), 'all_class_ids': array([0, 1], dtype=int32), 'all_classes': array([b'0', b'1'], dtype=object)}\n",
            "{'logits': array([1.6548599], dtype=float32), 'logistic': array([0.8395468], dtype=float32), 'probabilities': array([0.1604532, 0.8395468], dtype=float32), 'class_ids': array([1]), 'classes': array([b'1'], dtype=object), 'all_class_ids': array([0, 1], dtype=int32), 'all_classes': array([b'0', b'1'], dtype=object)}\n",
            "{'logits': array([1.0231792], dtype=float32), 'logistic': array([0.7355914], dtype=float32), 'probabilities': array([0.2644086 , 0.73559135], dtype=float32), 'class_ids': array([1]), 'classes': array([b'1'], dtype=object), 'all_class_ids': array([0, 1], dtype=int32), 'all_classes': array([b'0', b'1'], dtype=object)}\n",
            "{'logits': array([0.9796611], dtype=float32), 'logistic': array([0.72704095], dtype=float32), 'probabilities': array([0.272959 , 0.7270409], dtype=float32), 'class_ids': array([1]), 'classes': array([b'1'], dtype=object), 'all_class_ids': array([0, 1], dtype=int32), 'all_classes': array([b'0', b'1'], dtype=object)}\n",
            "{'logits': array([-2.4010215], dtype=float32), 'logistic': array([0.08309484], dtype=float32), 'probabilities': array([0.91690516, 0.08309484], dtype=float32), 'class_ids': array([0]), 'classes': array([b'0'], dtype=object), 'all_class_ids': array([0, 1], dtype=int32), 'all_classes': array([b'0', b'1'], dtype=object)}\n",
            "{'logits': array([3.9121523], dtype=float32), 'logistic': array([0.98039466], dtype=float32), 'probabilities': array([0.01960536, 0.98039466], dtype=float32), 'class_ids': array([1]), 'classes': array([b'1'], dtype=object), 'all_class_ids': array([0, 1], dtype=int32), 'all_classes': array([b'0', b'1'], dtype=object)}\n",
            "{'logits': array([1.0890017], dtype=float32), 'logistic': array([0.7481937], dtype=float32), 'probabilities': array([0.2518063, 0.7481936], dtype=float32), 'class_ids': array([1]), 'classes': array([b'1'], dtype=object), 'all_class_ids': array([0, 1], dtype=int32), 'all_classes': array([b'0', b'1'], dtype=object)}\n",
            "{'logits': array([-1.9510889], dtype=float32), 'logistic': array([0.12443468], dtype=float32), 'probabilities': array([0.8755653 , 0.12443466], dtype=float32), 'class_ids': array([0]), 'classes': array([b'0'], dtype=object), 'all_class_ids': array([0, 1], dtype=int32), 'all_classes': array([b'0', b'1'], dtype=object)}\n",
            "{'logits': array([1.0776684], dtype=float32), 'logistic': array([0.7460525], dtype=float32), 'probabilities': array([0.25394747, 0.74605244], dtype=float32), 'class_ids': array([1]), 'classes': array([b'1'], dtype=object), 'all_class_ids': array([0, 1], dtype=int32), 'all_classes': array([b'0', b'1'], dtype=object)}\n",
            "{'logits': array([-1.9437323], dtype=float32), 'logistic': array([0.1252384], dtype=float32), 'probabilities': array([0.87476164, 0.1252384 ], dtype=float32), 'class_ids': array([0]), 'classes': array([b'0'], dtype=object), 'all_class_ids': array([0, 1], dtype=int32), 'all_classes': array([b'0', b'1'], dtype=object)}\n",
            "{'logits': array([1.9717612], dtype=float32), 'logistic': array([0.8778001], dtype=float32), 'probabilities': array([0.12219985, 0.8778002 ], dtype=float32), 'class_ids': array([1]), 'classes': array([b'1'], dtype=object), 'all_class_ids': array([0, 1], dtype=int32), 'all_classes': array([b'0', b'1'], dtype=object)}\n",
            "{'logits': array([0.862879], dtype=float32), 'logistic': array([0.7032618], dtype=float32), 'probabilities': array([0.2967382, 0.7032618], dtype=float32), 'class_ids': array([1]), 'classes': array([b'1'], dtype=object), 'all_class_ids': array([0, 1], dtype=int32), 'all_classes': array([b'0', b'1'], dtype=object)}\n",
            "{'logits': array([-1.8321165], dtype=float32), 'logistic': array([0.13798632], dtype=float32), 'probabilities': array([0.8620135, 0.1379863], dtype=float32), 'class_ids': array([0]), 'classes': array([b'0'], dtype=object), 'all_class_ids': array([0, 1], dtype=int32), 'all_classes': array([b'0', b'1'], dtype=object)}\n",
            "{'logits': array([1.2530595], dtype=float32), 'logistic': array([0.77782905], dtype=float32), 'probabilities': array([0.222171 , 0.7778291], dtype=float32), 'class_ids': array([1]), 'classes': array([b'1'], dtype=object), 'all_class_ids': array([0, 1], dtype=int32), 'all_classes': array([b'0', b'1'], dtype=object)}\n",
            "{'logits': array([2.0348277], dtype=float32), 'logistic': array([0.8844055], dtype=float32), 'probabilities': array([0.11559445, 0.8844055 ], dtype=float32), 'class_ids': array([1]), 'classes': array([b'1'], dtype=object), 'all_class_ids': array([0, 1], dtype=int32), 'all_classes': array([b'0', b'1'], dtype=object)}\n",
            "{'logits': array([-1.63998], dtype=float32), 'logistic': array([0.1624678], dtype=float32), 'probabilities': array([0.8375322, 0.1624678], dtype=float32), 'class_ids': array([0]), 'classes': array([b'0'], dtype=object), 'all_class_ids': array([0, 1], dtype=int32), 'all_classes': array([b'0', b'1'], dtype=object)}\n",
            "{'logits': array([-1.9271219], dtype=float32), 'logistic': array([0.12706949], dtype=float32), 'probabilities': array([0.8729305 , 0.12706949], dtype=float32), 'class_ids': array([0]), 'classes': array([b'0'], dtype=object), 'all_class_ids': array([0, 1], dtype=int32), 'all_classes': array([b'0', b'1'], dtype=object)}\n",
            "{'logits': array([1.1628821], dtype=float32), 'logistic': array([0.76185596], dtype=float32), 'probabilities': array([0.238144, 0.761856], dtype=float32), 'class_ids': array([1]), 'classes': array([b'1'], dtype=object), 'all_class_ids': array([0, 1], dtype=int32), 'all_classes': array([b'0', b'1'], dtype=object)}\n",
            "{'logits': array([-1.6751282], dtype=float32), 'logistic': array([0.15774165], dtype=float32), 'probabilities': array([0.84225833, 0.15774165], dtype=float32), 'class_ids': array([0]), 'classes': array([b'0'], dtype=object), 'all_class_ids': array([0, 1], dtype=int32), 'all_classes': array([b'0', b'1'], dtype=object)}\n",
            "{'logits': array([-1.4759407], dtype=float32), 'logistic': array([0.18604133], dtype=float32), 'probabilities': array([0.8139586 , 0.18604133], dtype=float32), 'class_ids': array([0]), 'classes': array([b'0'], dtype=object), 'all_class_ids': array([0, 1], dtype=int32), 'all_classes': array([b'0', b'1'], dtype=object)}\n",
            "{'logits': array([-1.3391902], dtype=float32), 'logistic': array([0.20764326], dtype=float32), 'probabilities': array([0.7923568 , 0.20764326], dtype=float32), 'class_ids': array([0]), 'classes': array([b'0'], dtype=object), 'all_class_ids': array([0, 1], dtype=int32), 'all_classes': array([b'0', b'1'], dtype=object)}\n",
            "{'logits': array([-2.1177394], dtype=float32), 'logistic': array([0.10738456], dtype=float32), 'probabilities': array([0.8926154 , 0.10738456], dtype=float32), 'class_ids': array([0]), 'classes': array([b'0'], dtype=object), 'all_class_ids': array([0, 1], dtype=int32), 'all_classes': array([b'0', b'1'], dtype=object)}\n",
            "{'logits': array([0.9633906], dtype=float32), 'logistic': array([0.7238001], dtype=float32), 'probabilities': array([0.27619988, 0.7238002 ], dtype=float32), 'class_ids': array([1]), 'classes': array([b'1'], dtype=object), 'all_class_ids': array([0, 1], dtype=int32), 'all_classes': array([b'0', b'1'], dtype=object)}\n",
            "{'logits': array([-1.8161085], dtype=float32), 'logistic': array([0.13990149], dtype=float32), 'probabilities': array([0.86009854, 0.13990149], dtype=float32), 'class_ids': array([0]), 'classes': array([b'0'], dtype=object), 'all_class_ids': array([0, 1], dtype=int32), 'all_classes': array([b'0', b'1'], dtype=object)}\n",
            "{'logits': array([-2.3744588], dtype=float32), 'logistic': array([0.0851412], dtype=float32), 'probabilities': array([0.9148589, 0.0851412], dtype=float32), 'class_ids': array([0]), 'classes': array([b'0'], dtype=object), 'all_class_ids': array([0, 1], dtype=int32), 'all_classes': array([b'0', b'1'], dtype=object)}\n",
            "{'logits': array([-1.9677889], dtype=float32), 'logistic': array([0.12262658], dtype=float32), 'probabilities': array([0.8773735 , 0.12262659], dtype=float32), 'class_ids': array([0]), 'classes': array([b'0'], dtype=object), 'all_class_ids': array([0, 1], dtype=int32), 'all_classes': array([b'0', b'1'], dtype=object)}\n",
            "{'logits': array([-1.8013976], dtype=float32), 'logistic': array([0.14168103], dtype=float32), 'probabilities': array([0.858319  , 0.14168103], dtype=float32), 'class_ids': array([0]), 'classes': array([b'0'], dtype=object), 'all_class_ids': array([0, 1], dtype=int32), 'all_classes': array([b'0', b'1'], dtype=object)}\n",
            "{'logits': array([-0.7999215], dtype=float32), 'logistic': array([0.31004232], dtype=float32), 'probabilities': array([0.6899577 , 0.31004232], dtype=float32), 'class_ids': array([0]), 'classes': array([b'0'], dtype=object), 'all_class_ids': array([0, 1], dtype=int32), 'all_classes': array([b'0', b'1'], dtype=object)}\n",
            "{'logits': array([-1.2350241], dtype=float32), 'logistic': array([0.22530329], dtype=float32), 'probabilities': array([0.7746967, 0.2253033], dtype=float32), 'class_ids': array([0]), 'classes': array([b'0'], dtype=object), 'all_class_ids': array([0, 1], dtype=int32), 'all_classes': array([b'0', b'1'], dtype=object)}\n",
            "{'logits': array([4.1220193], dtype=float32), 'logistic': array([0.9840469], dtype=float32), 'probabilities': array([0.01595312, 0.98404694], dtype=float32), 'class_ids': array([1]), 'classes': array([b'1'], dtype=object), 'all_class_ids': array([0, 1], dtype=int32), 'all_classes': array([b'0', b'1'], dtype=object)}\n",
            "{'logits': array([-1.7807422], dtype=float32), 'logistic': array([0.1442115], dtype=float32), 'probabilities': array([0.85578847, 0.1442115 ], dtype=float32), 'class_ids': array([0]), 'classes': array([b'0'], dtype=object), 'all_class_ids': array([0, 1], dtype=int32), 'all_classes': array([b'0', b'1'], dtype=object)}\n",
            "{'logits': array([-1.8510656], dtype=float32), 'logistic': array([0.13574784], dtype=float32), 'probabilities': array([0.86425215, 0.13574782], dtype=float32), 'class_ids': array([0]), 'classes': array([b'0'], dtype=object), 'all_class_ids': array([0, 1], dtype=int32), 'all_classes': array([b'0', b'1'], dtype=object)}\n",
            "{'logits': array([1.0537609], dtype=float32), 'logistic': array([0.74149644], dtype=float32), 'probabilities': array([0.25850356, 0.74149644], dtype=float32), 'class_ids': array([1]), 'classes': array([b'1'], dtype=object), 'all_class_ids': array([0, 1], dtype=int32), 'all_classes': array([b'0', b'1'], dtype=object)}\n",
            "{'logits': array([4.394347], dtype=float32), 'logistic': array([0.98780364], dtype=float32), 'probabilities': array([0.01219635, 0.9878036 ], dtype=float32), 'class_ids': array([1]), 'classes': array([b'1'], dtype=object), 'all_class_ids': array([0, 1], dtype=int32), 'all_classes': array([b'0', b'1'], dtype=object)}\n",
            "{'logits': array([-1.6265764], dtype=float32), 'logistic': array([0.1642999], dtype=float32), 'probabilities': array([0.83570015, 0.1642999 ], dtype=float32), 'class_ids': array([0]), 'classes': array([b'0'], dtype=object), 'all_class_ids': array([0, 1], dtype=int32), 'all_classes': array([b'0', b'1'], dtype=object)}\n",
            "{'logits': array([-1.6954618], dtype=float32), 'logistic': array([0.15505892], dtype=float32), 'probabilities': array([0.8449411 , 0.15505892], dtype=float32), 'class_ids': array([0]), 'classes': array([b'0'], dtype=object), 'all_class_ids': array([0, 1], dtype=int32), 'all_classes': array([b'0', b'1'], dtype=object)}\n",
            "{'logits': array([-1.9271219], dtype=float32), 'logistic': array([0.12706949], dtype=float32), 'probabilities': array([0.8729305 , 0.12706949], dtype=float32), 'class_ids': array([0]), 'classes': array([b'0'], dtype=object), 'all_class_ids': array([0, 1], dtype=int32), 'all_classes': array([b'0', b'1'], dtype=object)}\n",
            "{'logits': array([0.44718927], dtype=float32), 'logistic': array([0.60997075], dtype=float32), 'probabilities': array([0.39002922, 0.60997075], dtype=float32), 'class_ids': array([1]), 'classes': array([b'1'], dtype=object), 'all_class_ids': array([0, 1], dtype=int32), 'all_classes': array([b'0', b'1'], dtype=object)}\n",
            "{'logits': array([-1.3346139], dtype=float32), 'logistic': array([0.2083972], dtype=float32), 'probabilities': array([0.7916028, 0.2083972], dtype=float32), 'class_ids': array([0]), 'classes': array([b'0'], dtype=object), 'all_class_ids': array([0, 1], dtype=int32), 'all_classes': array([b'0', b'1'], dtype=object)}\n",
            "{'logits': array([-1.3852096], dtype=float32), 'logistic': array([0.20017363], dtype=float32), 'probabilities': array([0.79982644, 0.20017365], dtype=float32), 'class_ids': array([0]), 'classes': array([b'0'], dtype=object), 'all_class_ids': array([0, 1], dtype=int32), 'all_classes': array([b'0', b'1'], dtype=object)}\n",
            "{'logits': array([-2.1533856], dtype=float32), 'logistic': array([0.10401528], dtype=float32), 'probabilities': array([0.8959847 , 0.10401527], dtype=float32), 'class_ids': array([0]), 'classes': array([b'0'], dtype=object), 'all_class_ids': array([0, 1], dtype=int32), 'all_classes': array([b'0', b'1'], dtype=object)}\n",
            "{'logits': array([-1.3851223], dtype=float32), 'logistic': array([0.2001876], dtype=float32), 'probabilities': array([0.7998123 , 0.20018758], dtype=float32), 'class_ids': array([0]), 'classes': array([b'0'], dtype=object), 'all_class_ids': array([0, 1], dtype=int32), 'all_classes': array([b'0', b'1'], dtype=object)}\n",
            "{'logits': array([-1.7932], dtype=float32), 'logistic': array([0.14268084], dtype=float32), 'probabilities': array([0.8573192 , 0.14268084], dtype=float32), 'class_ids': array([0]), 'classes': array([b'0'], dtype=object), 'all_class_ids': array([0, 1], dtype=int32), 'all_classes': array([b'0', b'1'], dtype=object)}\n",
            "{'logits': array([-0.84097016], dtype=float32), 'logistic': array([0.3013305], dtype=float32), 'probabilities': array([0.69866955, 0.30133054], dtype=float32), 'class_ids': array([0]), 'classes': array([b'0'], dtype=object), 'all_class_ids': array([0, 1], dtype=int32), 'all_classes': array([b'0', b'1'], dtype=object)}\n",
            "{'logits': array([-1.1160501], dtype=float32), 'logistic': array([0.24674468], dtype=float32), 'probabilities': array([0.7532553 , 0.24674469], dtype=float32), 'class_ids': array([0]), 'classes': array([b'0'], dtype=object), 'all_class_ids': array([0, 1], dtype=int32), 'all_classes': array([b'0', b'1'], dtype=object)}\n",
            "{'logits': array([-0.02793042], dtype=float32), 'logistic': array([0.49301785], dtype=float32), 'probabilities': array([0.5069822, 0.4930179], dtype=float32), 'class_ids': array([0]), 'classes': array([b'0'], dtype=object), 'all_class_ids': array([0, 1], dtype=int32), 'all_classes': array([b'0', b'1'], dtype=object)}\n",
            "{'logits': array([-1.2632085], dtype=float32), 'logistic': array([0.22042207], dtype=float32), 'probabilities': array([0.7795779 , 0.22042206], dtype=float32), 'class_ids': array([0]), 'classes': array([b'0'], dtype=object), 'all_class_ids': array([0, 1], dtype=int32), 'all_classes': array([b'0', b'1'], dtype=object)}\n",
            "{'logits': array([-1.0639634], dtype=float32), 'logistic': array([0.2565528], dtype=float32), 'probabilities': array([0.74344724, 0.2565528 ], dtype=float32), 'class_ids': array([0]), 'classes': array([b'0'], dtype=object), 'all_class_ids': array([0, 1], dtype=int32), 'all_classes': array([b'0', b'1'], dtype=object)}\n",
            "{'logits': array([-1.0588889], dtype=float32), 'logistic': array([0.25752184], dtype=float32), 'probabilities': array([0.7424782 , 0.25752187], dtype=float32), 'class_ids': array([0]), 'classes': array([b'0'], dtype=object), 'all_class_ids': array([0, 1], dtype=int32), 'all_classes': array([b'0', b'1'], dtype=object)}\n",
            "{'logits': array([0.8042755], dtype=float32), 'logistic': array([0.6908883], dtype=float32), 'probabilities': array([0.30911168, 0.6908883 ], dtype=float32), 'class_ids': array([1]), 'classes': array([b'1'], dtype=object), 'all_class_ids': array([0, 1], dtype=int32), 'all_classes': array([b'0', b'1'], dtype=object)}\n",
            "{'logits': array([-1.3851223], dtype=float32), 'logistic': array([0.2001876], dtype=float32), 'probabilities': array([0.7998123 , 0.20018758], dtype=float32), 'class_ids': array([0]), 'classes': array([b'0'], dtype=object), 'all_class_ids': array([0, 1], dtype=int32), 'all_classes': array([b'0', b'1'], dtype=object)}\n",
            "{'logits': array([1.0562692], dtype=float32), 'logistic': array([0.7419769], dtype=float32), 'probabilities': array([0.25802308, 0.741977  ], dtype=float32), 'class_ids': array([1]), 'classes': array([b'1'], dtype=object), 'all_class_ids': array([0, 1], dtype=int32), 'all_classes': array([b'0', b'1'], dtype=object)}\n",
            "{'logits': array([-1.6101983], dtype=float32), 'logistic': array([0.1665611], dtype=float32), 'probabilities': array([0.833439  , 0.16656111], dtype=float32), 'class_ids': array([0]), 'classes': array([b'0'], dtype=object), 'all_class_ids': array([0, 1], dtype=int32), 'all_classes': array([b'0', b'1'], dtype=object)}\n",
            "{'logits': array([3.7721467], dtype=float32), 'logistic': array([0.97751456], dtype=float32), 'probabilities': array([0.02248541, 0.9775145 ], dtype=float32), 'class_ids': array([1]), 'classes': array([b'1'], dtype=object), 'all_class_ids': array([0, 1], dtype=int32), 'all_classes': array([b'0', b'1'], dtype=object)}\n",
            "{'logits': array([1.5360879], dtype=float32), 'logistic': array([0.8228953], dtype=float32), 'probabilities': array([0.17710471, 0.82289535], dtype=float32), 'class_ids': array([1]), 'classes': array([b'1'], dtype=object), 'all_class_ids': array([0, 1], dtype=int32), 'all_classes': array([b'0', b'1'], dtype=object)}\n",
            "{'logits': array([-2.0110512], dtype=float32), 'logistic': array([0.11804749], dtype=float32), 'probabilities': array([0.8819524 , 0.11804748], dtype=float32), 'class_ids': array([0]), 'classes': array([b'0'], dtype=object), 'all_class_ids': array([0, 1], dtype=int32), 'all_classes': array([b'0', b'1'], dtype=object)}\n",
            "{'logits': array([4.626405], dtype=float32), 'logistic': array([0.990305], dtype=float32), 'probabilities': array([0.00969498, 0.99030495], dtype=float32), 'class_ids': array([1]), 'classes': array([b'1'], dtype=object), 'all_class_ids': array([0, 1], dtype=int32), 'all_classes': array([b'0', b'1'], dtype=object)}\n",
            "{'logits': array([-1.3280219], dtype=float32), 'logistic': array([0.20948675], dtype=float32), 'probabilities': array([0.7905132 , 0.20948674], dtype=float32), 'class_ids': array([0]), 'classes': array([b'0'], dtype=object), 'all_class_ids': array([0, 1], dtype=int32), 'all_classes': array([b'0', b'1'], dtype=object)}\n",
            "{'logits': array([-1.3543245], dtype=float32), 'logistic': array([0.20516428], dtype=float32), 'probabilities': array([0.79483575, 0.20516428], dtype=float32), 'class_ids': array([0]), 'classes': array([b'0'], dtype=object), 'all_class_ids': array([0, 1], dtype=int32), 'all_classes': array([b'0', b'1'], dtype=object)}\n",
            "{'logits': array([4.2369967], dtype=float32), 'logistic': array([0.9857549], dtype=float32), 'probabilities': array([0.01424507, 0.98575497], dtype=float32), 'class_ids': array([1]), 'classes': array([b'1'], dtype=object), 'all_class_ids': array([0, 1], dtype=int32), 'all_classes': array([b'0', b'1'], dtype=object)}\n",
            "{'logits': array([-1.8051207], dtype=float32), 'logistic': array([0.14122887], dtype=float32), 'probabilities': array([0.85877115, 0.14122887], dtype=float32), 'class_ids': array([0]), 'classes': array([b'0'], dtype=object), 'all_class_ids': array([0, 1], dtype=int32), 'all_classes': array([b'0', b'1'], dtype=object)}\n",
            "{'logits': array([1.7521257], dtype=float32), 'logistic': array([0.8522207], dtype=float32), 'probabilities': array([0.14777927, 0.8522207 ], dtype=float32), 'class_ids': array([1]), 'classes': array([b'1'], dtype=object), 'all_class_ids': array([0, 1], dtype=int32), 'all_classes': array([b'0', b'1'], dtype=object)}\n",
            "{'logits': array([-1.9303234], dtype=float32), 'logistic': array([0.12671478], dtype=float32), 'probabilities': array([0.8732851 , 0.12671478], dtype=float32), 'class_ids': array([0]), 'classes': array([b'0'], dtype=object), 'all_class_ids': array([0, 1], dtype=int32), 'all_classes': array([b'0', b'1'], dtype=object)}\n",
            "{'logits': array([-0.04352944], dtype=float32), 'logistic': array([0.48911935], dtype=float32), 'probabilities': array([0.51088065, 0.48911938], dtype=float32), 'class_ids': array([0]), 'classes': array([b'0'], dtype=object), 'all_class_ids': array([0, 1], dtype=int32), 'all_classes': array([b'0', b'1'], dtype=object)}\n",
            "{'logits': array([-2.2524579], dtype=float32), 'logistic': array([0.09513767], dtype=float32), 'probabilities': array([0.9048624 , 0.09513767], dtype=float32), 'class_ids': array([0]), 'classes': array([b'0'], dtype=object), 'all_class_ids': array([0, 1], dtype=int32), 'all_classes': array([b'0', b'1'], dtype=object)}\n",
            "{'logits': array([-1.6751282], dtype=float32), 'logistic': array([0.15774165], dtype=float32), 'probabilities': array([0.84225833, 0.15774165], dtype=float32), 'class_ids': array([0]), 'classes': array([b'0'], dtype=object), 'all_class_ids': array([0, 1], dtype=int32), 'all_classes': array([b'0', b'1'], dtype=object)}\n",
            "{'logits': array([1.0517999], dtype=float32), 'logistic': array([0.7411204], dtype=float32), 'probabilities': array([0.2588796 , 0.74112034], dtype=float32), 'class_ids': array([1]), 'classes': array([b'1'], dtype=object), 'all_class_ids': array([0, 1], dtype=int32), 'all_classes': array([b'0', b'1'], dtype=object)}\n",
            "{'logits': array([2.7936964], dtype=float32), 'logistic': array([0.94233423], dtype=float32), 'probabilities': array([0.05766576, 0.9423342 ], dtype=float32), 'class_ids': array([1]), 'classes': array([b'1'], dtype=object), 'all_class_ids': array([0, 1], dtype=int32), 'all_classes': array([b'0', b'1'], dtype=object)}\n",
            "{'logits': array([-1.1750612], dtype=float32), 'logistic': array([0.23594135], dtype=float32), 'probabilities': array([0.76405865, 0.23594137], dtype=float32), 'class_ids': array([0]), 'classes': array([b'0'], dtype=object), 'all_class_ids': array([0, 1], dtype=int32), 'all_classes': array([b'0', b'1'], dtype=object)}\n",
            "{'logits': array([0.54171187], dtype=float32), 'logistic': array([0.63221055], dtype=float32), 'probabilities': array([0.36778942, 0.6322105 ], dtype=float32), 'class_ids': array([1]), 'classes': array([b'1'], dtype=object), 'all_class_ids': array([0, 1], dtype=int32), 'all_classes': array([b'0', b'1'], dtype=object)}\n",
            "{'logits': array([-1.7888527], dtype=float32), 'logistic': array([0.14321345], dtype=float32), 'probabilities': array([0.85678655, 0.14321345], dtype=float32), 'class_ids': array([0]), 'classes': array([b'0'], dtype=object), 'all_class_ids': array([0, 1], dtype=int32), 'all_classes': array([b'0', b'1'], dtype=object)}\n",
            "{'logits': array([-1.6176445], dtype=float32), 'logistic': array([0.16552997], dtype=float32), 'probabilities': array([0.8344699 , 0.16552995], dtype=float32), 'class_ids': array([0]), 'classes': array([b'0'], dtype=object), 'all_class_ids': array([0, 1], dtype=int32), 'all_classes': array([b'0', b'1'], dtype=object)}\n",
            "{'logits': array([-0.92388344], dtype=float32), 'logistic': array([0.28416726], dtype=float32), 'probabilities': array([0.7158327 , 0.28416726], dtype=float32), 'class_ids': array([0]), 'classes': array([b'0'], dtype=object), 'all_class_ids': array([0, 1], dtype=int32), 'all_classes': array([b'0', b'1'], dtype=object)}\n",
            "{'logits': array([-0.7136132], dtype=float32), 'logistic': array([0.32880095], dtype=float32), 'probabilities': array([0.6711991 , 0.32880098], dtype=float32), 'class_ids': array([0]), 'classes': array([b'0'], dtype=object), 'all_class_ids': array([0, 1], dtype=int32), 'all_classes': array([b'0', b'1'], dtype=object)}\n",
            "{'logits': array([4.433596], dtype=float32), 'logistic': array([0.98826754], dtype=float32), 'probabilities': array([0.01173244, 0.98826754], dtype=float32), 'class_ids': array([1]), 'classes': array([b'1'], dtype=object), 'all_class_ids': array([0, 1], dtype=int32), 'all_classes': array([b'0', b'1'], dtype=object)}\n",
            "{'logits': array([0.5551521], dtype=float32), 'logistic': array([0.6353301], dtype=float32), 'probabilities': array([0.36466992, 0.63533014], dtype=float32), 'class_ids': array([1]), 'classes': array([b'1'], dtype=object), 'all_class_ids': array([0, 1], dtype=int32), 'all_classes': array([b'0', b'1'], dtype=object)}\n",
            "{'logits': array([-1.7473218], dtype=float32), 'logistic': array([0.1483853], dtype=float32), 'probabilities': array([0.8516146, 0.1483853], dtype=float32), 'class_ids': array([0]), 'classes': array([b'0'], dtype=object), 'all_class_ids': array([0, 1], dtype=int32), 'all_classes': array([b'0', b'1'], dtype=object)}\n",
            "{'logits': array([0.20778103], dtype=float32), 'logistic': array([0.5517592], dtype=float32), 'probabilities': array([0.44824082, 0.5517592 ], dtype=float32), 'class_ids': array([1]), 'classes': array([b'1'], dtype=object), 'all_class_ids': array([0, 1], dtype=int32), 'all_classes': array([b'0', b'1'], dtype=object)}\n",
            "{'logits': array([1.0579135], dtype=float32), 'logistic': array([0.7422916], dtype=float32), 'probabilities': array([0.2577084, 0.7422916], dtype=float32), 'class_ids': array([1]), 'classes': array([b'1'], dtype=object), 'all_class_ids': array([0, 1], dtype=int32), 'all_classes': array([b'0', b'1'], dtype=object)}\n",
            "{'logits': array([1.238841], dtype=float32), 'logistic': array([0.77536225], dtype=float32), 'probabilities': array([0.22463778, 0.7753622 ], dtype=float32), 'class_ids': array([1]), 'classes': array([b'1'], dtype=object), 'all_class_ids': array([0, 1], dtype=int32), 'all_classes': array([b'0', b'1'], dtype=object)}\n",
            "{'logits': array([-0.9676029], dtype=float32), 'logistic': array([0.27535853], dtype=float32), 'probabilities': array([0.72464144, 0.27535853], dtype=float32), 'class_ids': array([0]), 'classes': array([b'0'], dtype=object), 'all_class_ids': array([0, 1], dtype=int32), 'all_classes': array([b'0', b'1'], dtype=object)}\n",
            "{'logits': array([1.5808905], dtype=float32), 'logistic': array([0.8293306], dtype=float32), 'probabilities': array([0.17066942, 0.8293307 ], dtype=float32), 'class_ids': array([1]), 'classes': array([b'1'], dtype=object), 'all_class_ids': array([0, 1], dtype=int32), 'all_classes': array([b'0', b'1'], dtype=object)}\n",
            "{'logits': array([-1.6292117], dtype=float32), 'logistic': array([0.16393837], dtype=float32), 'probabilities': array([0.83606154, 0.16393837], dtype=float32), 'class_ids': array([0]), 'classes': array([b'0'], dtype=object), 'all_class_ids': array([0, 1], dtype=int32), 'all_classes': array([b'0', b'1'], dtype=object)}\n",
            "{'logits': array([-0.27828997], dtype=float32), 'logistic': array([0.4308731], dtype=float32), 'probabilities': array([0.56912696, 0.4308731 ], dtype=float32), 'class_ids': array([0]), 'classes': array([b'0'], dtype=object), 'all_class_ids': array([0, 1], dtype=int32), 'all_classes': array([b'0', b'1'], dtype=object)}\n",
            "{'logits': array([2.9666014], dtype=float32), 'logistic': array([0.9510423], dtype=float32), 'probabilities': array([0.04895772, 0.9510423 ], dtype=float32), 'class_ids': array([1]), 'classes': array([b'1'], dtype=object), 'all_class_ids': array([0, 1], dtype=int32), 'all_classes': array([b'0', b'1'], dtype=object)}\n",
            "{'logits': array([-1.9751854], dtype=float32), 'logistic': array([0.12183303], dtype=float32), 'probabilities': array([0.878167  , 0.12183302], dtype=float32), 'class_ids': array([0]), 'classes': array([b'0'], dtype=object), 'all_class_ids': array([0, 1], dtype=int32), 'all_classes': array([b'0', b'1'], dtype=object)}\n",
            "{'logits': array([-1.8559544], dtype=float32), 'logistic': array([0.1351753], dtype=float32), 'probabilities': array([0.8648247 , 0.13517529], dtype=float32), 'class_ids': array([0]), 'classes': array([b'0'], dtype=object), 'all_class_ids': array([0, 1], dtype=int32), 'all_classes': array([b'0', b'1'], dtype=object)}\n",
            "{'logits': array([1.2037951], dtype=float32), 'logistic': array([0.76919925], dtype=float32), 'probabilities': array([0.23080076, 0.76919913], dtype=float32), 'class_ids': array([1]), 'classes': array([b'1'], dtype=object), 'all_class_ids': array([0, 1], dtype=int32), 'all_classes': array([b'0', b'1'], dtype=object)}\n",
            "{'logits': array([1.0643148], dtype=float32), 'logistic': array([0.74351424], dtype=float32), 'probabilities': array([0.25648573, 0.74351424], dtype=float32), 'class_ids': array([1]), 'classes': array([b'1'], dtype=object), 'all_class_ids': array([0, 1], dtype=int32), 'all_classes': array([b'0', b'1'], dtype=object)}\n",
            "{'logits': array([-0.06258993], dtype=float32), 'logistic': array([0.48435763], dtype=float32), 'probabilities': array([0.5156424 , 0.48435763], dtype=float32), 'class_ids': array([0]), 'classes': array([b'0'], dtype=object), 'all_class_ids': array([0, 1], dtype=int32), 'all_classes': array([b'0', b'1'], dtype=object)}\n",
            "{'logits': array([-1.6514993], dtype=float32), 'logistic': array([0.16090642], dtype=float32), 'probabilities': array([0.8390935 , 0.16090642], dtype=float32), 'class_ids': array([0]), 'classes': array([b'0'], dtype=object), 'all_class_ids': array([0, 1], dtype=int32), 'all_classes': array([b'0', b'1'], dtype=object)}\n",
            "{'logits': array([-1.324209], dtype=float32), 'logistic': array([0.21011889], dtype=float32), 'probabilities': array([0.7898811 , 0.21011887], dtype=float32), 'class_ids': array([0]), 'classes': array([b'0'], dtype=object), 'all_class_ids': array([0, 1], dtype=int32), 'all_classes': array([b'0', b'1'], dtype=object)}\n",
            "{'logits': array([-1.5468931], dtype=float32), 'logistic': array([0.17553546], dtype=float32), 'probabilities': array([0.82446456, 0.17553546], dtype=float32), 'class_ids': array([0]), 'classes': array([b'0'], dtype=object), 'all_class_ids': array([0, 1], dtype=int32), 'all_classes': array([b'0', b'1'], dtype=object)}\n",
            "{'logits': array([-2.2524579], dtype=float32), 'logistic': array([0.09513767], dtype=float32), 'probabilities': array([0.9048624 , 0.09513767], dtype=float32), 'class_ids': array([0]), 'classes': array([b'0'], dtype=object), 'all_class_ids': array([0, 1], dtype=int32), 'all_classes': array([b'0', b'1'], dtype=object)}\n",
            "{'logits': array([-1.8343523], dtype=float32), 'logistic': array([0.1377206], dtype=float32), 'probabilities': array([0.86227936, 0.1377206 ], dtype=float32), 'class_ids': array([0]), 'classes': array([b'0'], dtype=object), 'all_class_ids': array([0, 1], dtype=int32), 'all_classes': array([b'0', b'1'], dtype=object)}\n",
            "{'logits': array([7.3734145], dtype=float32), 'logistic': array([0.99937266], dtype=float32), 'probabilities': array([6.2732736e-04, 9.9937266e-01], dtype=float32), 'class_ids': array([1]), 'classes': array([b'1'], dtype=object), 'all_class_ids': array([0, 1], dtype=int32), 'all_classes': array([b'0', b'1'], dtype=object)}\n",
            "{'logits': array([1.6323614], dtype=float32), 'logistic': array([0.83649284], dtype=float32), 'probabilities': array([0.16350712, 0.8364928 ], dtype=float32), 'class_ids': array([1]), 'classes': array([b'1'], dtype=object), 'all_class_ids': array([0, 1], dtype=int32), 'all_classes': array([b'0', b'1'], dtype=object)}\n",
            "{'logits': array([-1.8508056], dtype=float32), 'logistic': array([0.13577834], dtype=float32), 'probabilities': array([0.86422163, 0.13577832], dtype=float32), 'class_ids': array([0]), 'classes': array([b'0'], dtype=object), 'all_class_ids': array([0, 1], dtype=int32), 'all_classes': array([b'0', b'1'], dtype=object)}\n",
            "{'logits': array([1.3268389], dtype=float32), 'logistic': array([0.79031724], dtype=float32), 'probabilities': array([0.20968275, 0.7903173 ], dtype=float32), 'class_ids': array([1]), 'classes': array([b'1'], dtype=object), 'all_class_ids': array([0, 1], dtype=int32), 'all_classes': array([b'0', b'1'], dtype=object)}\n",
            "{'logits': array([0.32518822], dtype=float32), 'logistic': array([0.58058816], dtype=float32), 'probabilities': array([0.41941187, 0.58058816], dtype=float32), 'class_ids': array([1]), 'classes': array([b'1'], dtype=object), 'all_class_ids': array([0, 1], dtype=int32), 'all_classes': array([b'0', b'1'], dtype=object)}\n",
            "{'logits': array([-1.5572746], dtype=float32), 'logistic': array([0.17403807], dtype=float32), 'probabilities': array([0.8259619 , 0.17403807], dtype=float32), 'class_ids': array([0]), 'classes': array([b'0'], dtype=object), 'all_class_ids': array([0, 1], dtype=int32), 'all_classes': array([b'0', b'1'], dtype=object)}\n",
            "{'logits': array([-1.6844145], dtype=float32), 'logistic': array([0.1565118], dtype=float32), 'probabilities': array([0.8434881 , 0.15651178], dtype=float32), 'class_ids': array([0]), 'classes': array([b'0'], dtype=object), 'all_class_ids': array([0, 1], dtype=int32), 'all_classes': array([b'0', b'1'], dtype=object)}\n",
            "{'logits': array([-1.1912714], dtype=float32), 'logistic': array([0.23303162], dtype=float32), 'probabilities': array([0.76696837, 0.23303162], dtype=float32), 'class_ids': array([0]), 'classes': array([b'0'], dtype=object), 'all_class_ids': array([0, 1], dtype=int32), 'all_classes': array([b'0', b'1'], dtype=object)}\n",
            "{'logits': array([-1.7517362], dtype=float32), 'logistic': array([0.14782836], dtype=float32), 'probabilities': array([0.85217166, 0.14782836], dtype=float32), 'class_ids': array([0]), 'classes': array([b'0'], dtype=object), 'all_class_ids': array([0, 1], dtype=int32), 'all_classes': array([b'0', b'1'], dtype=object)}\n",
            "{'logits': array([1.0560095], dtype=float32), 'logistic': array([0.7419272], dtype=float32), 'probabilities': array([0.2580728 , 0.74192727], dtype=float32), 'class_ids': array([1]), 'classes': array([b'1'], dtype=object), 'all_class_ids': array([0, 1], dtype=int32), 'all_classes': array([b'0', b'1'], dtype=object)}\n",
            "{'logits': array([-1.7701459], dtype=float32), 'logistic': array([0.14552419], dtype=float32), 'probabilities': array([0.8544758 , 0.14552419], dtype=float32), 'class_ids': array([0]), 'classes': array([b'0'], dtype=object), 'all_class_ids': array([0, 1], dtype=int32), 'all_classes': array([b'0', b'1'], dtype=object)}\n",
            "{'logits': array([0.9259751], dtype=float32), 'logistic': array([0.716258], dtype=float32), 'probabilities': array([0.28374198, 0.716258  ], dtype=float32), 'class_ids': array([1]), 'classes': array([b'1'], dtype=object), 'all_class_ids': array([0, 1], dtype=int32), 'all_classes': array([b'0', b'1'], dtype=object)}\n",
            "{'logits': array([0.3183722], dtype=float32), 'logistic': array([0.5789275], dtype=float32), 'probabilities': array([0.42107248, 0.57892746], dtype=float32), 'class_ids': array([1]), 'classes': array([b'1'], dtype=object), 'all_class_ids': array([0, 1], dtype=int32), 'all_classes': array([b'0', b'1'], dtype=object)}\n",
            "{'logits': array([-1.9907176], dtype=float32), 'logistic': array([0.12018096], dtype=float32), 'probabilities': array([0.87981904, 0.12018096], dtype=float32), 'class_ids': array([0]), 'classes': array([b'0'], dtype=object), 'all_class_ids': array([0, 1], dtype=int32), 'all_classes': array([b'0', b'1'], dtype=object)}\n",
            "{'logits': array([-1.2882632], dtype=float32), 'logistic': array([0.21614693], dtype=float32), 'probabilities': array([0.78385305, 0.21614693], dtype=float32), 'class_ids': array([0]), 'classes': array([b'0'], dtype=object), 'all_class_ids': array([0, 1], dtype=int32), 'all_classes': array([b'0', b'1'], dtype=object)}\n",
            "{'logits': array([1.62146], dtype=float32), 'logistic': array([0.8349964], dtype=float32), 'probabilities': array([0.16500361, 0.8349963 ], dtype=float32), 'class_ids': array([1]), 'classes': array([b'1'], dtype=object), 'all_class_ids': array([0, 1], dtype=int32), 'all_classes': array([b'0', b'1'], dtype=object)}\n",
            "{'logits': array([1.0207151], dtype=float32), 'logistic': array([0.7351119], dtype=float32), 'probabilities': array([0.26488814, 0.7351119 ], dtype=float32), 'class_ids': array([1]), 'classes': array([b'1'], dtype=object), 'all_class_ids': array([0, 1], dtype=int32), 'all_classes': array([b'0', b'1'], dtype=object)}\n",
            "{'logits': array([-1.7361288], dtype=float32), 'logistic': array([0.1498053], dtype=float32), 'probabilities': array([0.85019463, 0.1498053 ], dtype=float32), 'class_ids': array([0]), 'classes': array([b'0'], dtype=object), 'all_class_ids': array([0, 1], dtype=int32), 'all_classes': array([b'0', b'1'], dtype=object)}\n",
            "{'logits': array([-0.340864], dtype=float32), 'logistic': array([0.41559958], dtype=float32), 'probabilities': array([0.5844003 , 0.41559952], dtype=float32), 'class_ids': array([0]), 'classes': array([b'0'], dtype=object), 'all_class_ids': array([0, 1], dtype=int32), 'all_classes': array([b'0', b'1'], dtype=object)}\n",
            "{'logits': array([-0.89708], dtype=float32), 'logistic': array([0.28965095], dtype=float32), 'probabilities': array([0.710349  , 0.28965092], dtype=float32), 'class_ids': array([0]), 'classes': array([b'0'], dtype=object), 'all_class_ids': array([0, 1], dtype=int32), 'all_classes': array([b'0', b'1'], dtype=object)}\n",
            "{'logits': array([4.0486774], dtype=float32), 'logistic': array([0.9828537], dtype=float32), 'probabilities': array([0.01714631, 0.98285365], dtype=float32), 'class_ids': array([1]), 'classes': array([b'1'], dtype=object), 'all_class_ids': array([0, 1], dtype=int32), 'all_classes': array([b'0', b'1'], dtype=object)}\n",
            "{'logits': array([4.4764857], dtype=float32), 'logistic': array([0.9887546], dtype=float32), 'probabilities': array([0.01124541, 0.9887546 ], dtype=float32), 'class_ids': array([1]), 'classes': array([b'1'], dtype=object), 'all_class_ids': array([0, 1], dtype=int32), 'all_classes': array([b'0', b'1'], dtype=object)}\n",
            "{'logits': array([-1.6888294], dtype=float32), 'logistic': array([0.15592983], dtype=float32), 'probabilities': array([0.8440702 , 0.15592985], dtype=float32), 'class_ids': array([0]), 'classes': array([b'0'], dtype=object), 'all_class_ids': array([0, 1], dtype=int32), 'all_classes': array([b'0', b'1'], dtype=object)}\n",
            "{'logits': array([1.0054353], dtype=float32), 'logistic': array([0.7321259], dtype=float32), 'probabilities': array([0.26787412, 0.73212594], dtype=float32), 'class_ids': array([1]), 'classes': array([b'1'], dtype=object), 'all_class_ids': array([0, 1], dtype=int32), 'all_classes': array([b'0', b'1'], dtype=object)}\n",
            "{'logits': array([-1.8156815], dtype=float32), 'logistic': array([0.13995287], dtype=float32), 'probabilities': array([0.86004704, 0.13995287], dtype=float32), 'class_ids': array([0]), 'classes': array([b'0'], dtype=object), 'all_class_ids': array([0, 1], dtype=int32), 'all_classes': array([b'0', b'1'], dtype=object)}\n",
            "{'logits': array([-1.3852096], dtype=float32), 'logistic': array([0.20017363], dtype=float32), 'probabilities': array([0.79982644, 0.20017365], dtype=float32), 'class_ids': array([0]), 'classes': array([b'0'], dtype=object), 'all_class_ids': array([0, 1], dtype=int32), 'all_classes': array([b'0', b'1'], dtype=object)}\n",
            "{'logits': array([1.3228686], dtype=float32), 'logistic': array([0.78965855], dtype=float32), 'probabilities': array([0.21034145, 0.78965867], dtype=float32), 'class_ids': array([1]), 'classes': array([b'1'], dtype=object), 'all_class_ids': array([0, 1], dtype=int32), 'all_classes': array([b'0', b'1'], dtype=object)}\n",
            "{'logits': array([-1.6753879], dtype=float32), 'logistic': array([0.15770715], dtype=float32), 'probabilities': array([0.8422928 , 0.15770715], dtype=float32), 'class_ids': array([0]), 'classes': array([b'0'], dtype=object), 'all_class_ids': array([0, 1], dtype=int32), 'all_classes': array([b'0', b'1'], dtype=object)}\n",
            "{'logits': array([6.370089], dtype=float32), 'logistic': array([0.9982909], dtype=float32), 'probabilities': array([0.00170908, 0.998291  ], dtype=float32), 'class_ids': array([1]), 'classes': array([b'1'], dtype=object), 'all_class_ids': array([0, 1], dtype=int32), 'all_classes': array([b'0', b'1'], dtype=object)}\n",
            "{'logits': array([1.6512778], dtype=float32), 'logistic': array([0.83906364], dtype=float32), 'probabilities': array([0.16093633, 0.8390637 ], dtype=float32), 'class_ids': array([1]), 'classes': array([b'1'], dtype=object), 'all_class_ids': array([0, 1], dtype=int32), 'all_classes': array([b'0', b'1'], dtype=object)}\n",
            "{'logits': array([-1.8827317], dtype=float32), 'logistic': array([0.13207541], dtype=float32), 'probabilities': array([0.8679246 , 0.13207541], dtype=float32), 'class_ids': array([0]), 'classes': array([b'0'], dtype=object), 'all_class_ids': array([0, 1], dtype=int32), 'all_classes': array([b'0', b'1'], dtype=object)}\n",
            "{'logits': array([0.99610364], dtype=float32), 'logistic': array([0.73029184], dtype=float32), 'probabilities': array([0.26970816, 0.7302918 ], dtype=float32), 'class_ids': array([1]), 'classes': array([b'1'], dtype=object), 'all_class_ids': array([0, 1], dtype=int32), 'all_classes': array([b'0', b'1'], dtype=object)}\n",
            "{'logits': array([-1.4905857], dtype=float32), 'logistic': array([0.18383384], dtype=float32), 'probabilities': array([0.8161661 , 0.18383382], dtype=float32), 'class_ids': array([0]), 'classes': array([b'0'], dtype=object), 'all_class_ids': array([0, 1], dtype=int32), 'all_classes': array([b'0', b'1'], dtype=object)}\n",
            "{'logits': array([-0.86485356], dtype=float32), 'logistic': array([0.29632628], dtype=float32), 'probabilities': array([0.70367366, 0.29632628], dtype=float32), 'class_ids': array([0]), 'classes': array([b'0'], dtype=object), 'all_class_ids': array([0, 1], dtype=int32), 'all_classes': array([b'0', b'1'], dtype=object)}\n",
            "{'logits': array([-1.9291086], dtype=float32), 'logistic': array([0.12684928], dtype=float32), 'probabilities': array([0.8731507 , 0.12684926], dtype=float32), 'class_ids': array([0]), 'classes': array([b'0'], dtype=object), 'all_class_ids': array([0, 1], dtype=int32), 'all_classes': array([b'0', b'1'], dtype=object)}\n",
            "{'logits': array([1.0019008], dtype=float32), 'logistic': array([0.73143214], dtype=float32), 'probabilities': array([0.2685679 , 0.73143214], dtype=float32), 'class_ids': array([1]), 'classes': array([b'1'], dtype=object), 'all_class_ids': array([0, 1], dtype=int32), 'all_classes': array([b'0', b'1'], dtype=object)}\n",
            "{'logits': array([0.71959597], dtype=float32), 'logistic': array([0.6725181], dtype=float32), 'probabilities': array([0.32748199, 0.6725181 ], dtype=float32), 'class_ids': array([1]), 'classes': array([b'1'], dtype=object), 'all_class_ids': array([0, 1], dtype=int32), 'all_classes': array([b'0', b'1'], dtype=object)}\n",
            "{'logits': array([-2.265345], dtype=float32), 'logistic': array([0.09403402], dtype=float32), 'probabilities': array([0.905966  , 0.09403402], dtype=float32), 'class_ids': array([0]), 'classes': array([b'0'], dtype=object), 'all_class_ids': array([0, 1], dtype=int32), 'all_classes': array([b'0', b'1'], dtype=object)}\n",
            "{'logits': array([-1.1272185], dtype=float32), 'logistic': array([0.24467479], dtype=float32), 'probabilities': array([0.7553252 , 0.24467479], dtype=float32), 'class_ids': array([0]), 'classes': array([b'0'], dtype=object), 'all_class_ids': array([0, 1], dtype=int32), 'all_classes': array([b'0', b'1'], dtype=object)}\n",
            "{'logits': array([1.8371557], dtype=float32), 'logistic': array([0.86261195], dtype=float32), 'probabilities': array([0.13738802, 0.86261195], dtype=float32), 'class_ids': array([1]), 'classes': array([b'1'], dtype=object), 'all_class_ids': array([0, 1], dtype=int32), 'all_classes': array([b'0', b'1'], dtype=object)}\n",
            "{'logits': array([0.12161417], dtype=float32), 'logistic': array([0.5303662], dtype=float32), 'probabilities': array([0.46963388, 0.5303661 ], dtype=float32), 'class_ids': array([1]), 'classes': array([b'1'], dtype=object), 'all_class_ids': array([0, 1], dtype=int32), 'all_classes': array([b'0', b'1'], dtype=object)}\n",
            "{'logits': array([3.5311296], dtype=float32), 'logistic': array([0.97156066], dtype=float32), 'probabilities': array([0.02843936, 0.97156054], dtype=float32), 'class_ids': array([1]), 'classes': array([b'1'], dtype=object), 'all_class_ids': array([0, 1], dtype=int32), 'all_classes': array([b'0', b'1'], dtype=object)}\n",
            "{'logits': array([-0.25587434], dtype=float32), 'logistic': array([0.43637815], dtype=float32), 'probabilities': array([0.5636218 , 0.43637812], dtype=float32), 'class_ids': array([0]), 'classes': array([b'0'], dtype=object), 'all_class_ids': array([0, 1], dtype=int32), 'all_classes': array([b'0', b'1'], dtype=object)}\n",
            "{'logits': array([-1.0025725], dtype=float32), 'logistic': array([0.26843593], dtype=float32), 'probabilities': array([0.73156404, 0.26843593], dtype=float32), 'class_ids': array([0]), 'classes': array([b'0'], dtype=object), 'all_class_ids': array([0, 1], dtype=int32), 'all_classes': array([b'0', b'1'], dtype=object)}\n",
            "{'logits': array([-1.7670491], dtype=float32), 'logistic': array([0.1459097], dtype=float32), 'probabilities': array([0.85409033, 0.1459097 ], dtype=float32), 'class_ids': array([0]), 'classes': array([b'0'], dtype=object), 'all_class_ids': array([0, 1], dtype=int32), 'all_classes': array([b'0', b'1'], dtype=object)}\n",
            "{'logits': array([-1.6907358], dtype=float32), 'logistic': array([0.15567909], dtype=float32), 'probabilities': array([0.8443209, 0.1556791], dtype=float32), 'class_ids': array([0]), 'classes': array([b'0'], dtype=object), 'all_class_ids': array([0, 1], dtype=int32), 'all_classes': array([b'0', b'1'], dtype=object)}\n",
            "{'logits': array([-2.8681731], dtype=float32), 'logistic': array([0.05374949], dtype=float32), 'probabilities': array([0.94625044, 0.05374949], dtype=float32), 'class_ids': array([0]), 'classes': array([b'0'], dtype=object), 'all_class_ids': array([0, 1], dtype=int32), 'all_classes': array([b'0', b'1'], dtype=object)}\n",
            "{'logits': array([2.040608], dtype=float32), 'logistic': array([0.88499516], dtype=float32), 'probabilities': array([0.11500484, 0.8849951 ], dtype=float32), 'class_ids': array([1]), 'classes': array([b'1'], dtype=object), 'all_class_ids': array([0, 1], dtype=int32), 'all_classes': array([b'0', b'1'], dtype=object)}\n",
            "{'logits': array([1.6464252], dtype=float32), 'logistic': array([0.83840734], dtype=float32), 'probabilities': array([0.16159268, 0.83840734], dtype=float32), 'class_ids': array([1]), 'classes': array([b'1'], dtype=object), 'all_class_ids': array([0, 1], dtype=int32), 'all_classes': array([b'0', b'1'], dtype=object)}\n",
            "{'logits': array([-1.3851223], dtype=float32), 'logistic': array([0.2001876], dtype=float32), 'probabilities': array([0.7998123 , 0.20018758], dtype=float32), 'class_ids': array([0]), 'classes': array([b'0'], dtype=object), 'all_class_ids': array([0, 1], dtype=int32), 'all_classes': array([b'0', b'1'], dtype=object)}\n",
            "{'logits': array([-0.918366], dtype=float32), 'logistic': array([0.28529096], dtype=float32), 'probabilities': array([0.71470904, 0.28529096], dtype=float32), 'class_ids': array([0]), 'classes': array([b'0'], dtype=object), 'all_class_ids': array([0, 1], dtype=int32), 'all_classes': array([b'0', b'1'], dtype=object)}\n",
            "{'logits': array([2.558577], dtype=float32), 'logistic': array([0.9281476], dtype=float32), 'probabilities': array([0.07185237, 0.9281475 ], dtype=float32), 'class_ids': array([1]), 'classes': array([b'1'], dtype=object), 'all_class_ids': array([0, 1], dtype=int32), 'all_classes': array([b'0', b'1'], dtype=object)}\n",
            "{'logits': array([1.0286621], dtype=float32), 'logistic': array([0.7366564], dtype=float32), 'probabilities': array([0.26334354, 0.73665637], dtype=float32), 'class_ids': array([1]), 'classes': array([b'1'], dtype=object), 'all_class_ids': array([0, 1], dtype=int32), 'all_classes': array([b'0', b'1'], dtype=object)}\n",
            "{'logits': array([-1.8970153], dtype=float32), 'logistic': array([0.13044664], dtype=float32), 'probabilities': array([0.86955327, 0.13044664], dtype=float32), 'class_ids': array([0]), 'classes': array([b'0'], dtype=object), 'all_class_ids': array([0, 1], dtype=int32), 'all_classes': array([b'0', b'1'], dtype=object)}\n",
            "{'logits': array([3.4962702], dtype=float32), 'logistic': array([0.9705815], dtype=float32), 'probabilities': array([0.02941854, 0.97058135], dtype=float32), 'class_ids': array([1]), 'classes': array([b'1'], dtype=object), 'all_class_ids': array([0, 1], dtype=int32), 'all_classes': array([b'0', b'1'], dtype=object)}\n",
            "{'logits': array([1.9257855], dtype=float32), 'logistic': array([0.87278223], dtype=float32), 'probabilities': array([0.12721777, 0.8727821 ], dtype=float32), 'class_ids': array([1]), 'classes': array([b'1'], dtype=object), 'all_class_ids': array([0, 1], dtype=int32), 'all_classes': array([b'0', b'1'], dtype=object)}\n",
            "{'logits': array([-2.031991], dtype=float32), 'logistic': array([0.11588478], dtype=float32), 'probabilities': array([0.8841152 , 0.11588478], dtype=float32), 'class_ids': array([0]), 'classes': array([b'0'], dtype=object), 'all_class_ids': array([0, 1], dtype=int32), 'all_classes': array([b'0', b'1'], dtype=object)}\n",
            "{'logits': array([0.8448829], dtype=float32), 'logistic': array([0.69949263], dtype=float32), 'probabilities': array([0.3005074 , 0.69949263], dtype=float32), 'class_ids': array([1]), 'classes': array([b'1'], dtype=object), 'all_class_ids': array([0, 1], dtype=int32), 'all_classes': array([b'0', b'1'], dtype=object)}\n",
            "{'logits': array([-1.0489368], dtype=float32), 'logistic': array([0.25942934], dtype=float32), 'probabilities': array([0.74057066, 0.2594293 ], dtype=float32), 'class_ids': array([0]), 'classes': array([b'0'], dtype=object), 'all_class_ids': array([0, 1], dtype=int32), 'all_classes': array([b'0', b'1'], dtype=object)}\n",
            "{'logits': array([0.33841056], dtype=float32), 'logistic': array([0.58380437], dtype=float32), 'probabilities': array([0.41619563, 0.58380437], dtype=float32), 'class_ids': array([1]), 'classes': array([b'1'], dtype=object), 'all_class_ids': array([0, 1], dtype=int32), 'all_classes': array([b'0', b'1'], dtype=object)}\n"
          ]
        }
      ]
    },
    {
      "cell_type": "code",
      "source": [
        "dftrain.head()"
      ],
      "metadata": {
        "id": "AJDFUv1PKXn6"
      },
      "execution_count": null,
      "outputs": []
    },
    {
      "cell_type": "code",
      "source": [
        "print (dftrain.loc[200],y_train[200])"
      ],
      "metadata": {
        "id": "yLV3AJmeLRSd"
      },
      "execution_count": null,
      "outputs": []
    },
    {
      "cell_type": "code",
      "source": [
        "dftrain.describe()"
      ],
      "metadata": {
        "id": "k6KiSRhzNa20"
      },
      "execution_count": null,
      "outputs": []
    },
    {
      "cell_type": "code",
      "source": [
        "dftrain.shape"
      ],
      "metadata": {
        "id": "0gYJKGLLNiKx"
      },
      "execution_count": null,
      "outputs": []
    },
    {
      "cell_type": "code",
      "source": [
        "y_train.head()"
      ],
      "metadata": {
        "id": "v2ZZkB6POWpt"
      },
      "execution_count": null,
      "outputs": []
    },
    {
      "cell_type": "code",
      "source": [
        "dftrain['class'].hist(bins=20)"
      ],
      "metadata": {
        "id": "M3gKTZThO34S"
      },
      "execution_count": null,
      "outputs": []
    },
    {
      "cell_type": "code",
      "source": [
        "dftrain.sex.value_counts().plot(kind='barh')"
      ],
      "metadata": {
        "id": "yuTpRT1fQjfE"
      },
      "execution_count": null,
      "outputs": []
    },
    {
      "cell_type": "code",
      "source": [
        "dftrain['class'].value_counts().plot(kind='bar')"
      ],
      "metadata": {
        "id": "W2mjIVg7R3kr"
      },
      "execution_count": null,
      "outputs": []
    },
    {
      "cell_type": "code",
      "source": [
        "pd.concat([dftrain,y_train],axis=1).groupby ('sex').survived.mean().plot(kind='bar').set_xlabel('%survive')"
      ],
      "metadata": {
        "id": "qSNHfNdaS29Q"
      },
      "execution_count": null,
      "outputs": []
    }
  ]
}